{
 "cells": [
  {
   "cell_type": "markdown",
   "metadata": {},
   "source": [
    "## Demontration of Hopfield Networks for information retrieval of distorted images\n",
    "partly adapted from http://codeaffectionate.blogspot.co.at/2013/05/fun-with-hopfield-and-numpy.html which shows a different version"
   ]
  },
  {
   "cell_type": "code",
   "execution_count": 1,
   "metadata": {
    "collapsed": false
   },
   "outputs": [],
   "source": [
    "%matplotlib inline\n",
    "import numpy as np\n",
    "import matplotlib.pyplot as plt\n",
    "A = \"\"\"\n",
    ".XXX.\n",
    "X...X\n",
    "XXXXX\n",
    "X...X\n",
    "X...X\n",
    "\"\"\"\n",
    " \n",
    "Z = \"\"\"\n",
    "XXXXX\n",
    "...X.\n",
    "..X..\n",
    ".X...\n",
    "XXXXX\n",
    "\"\"\"\n",
    "\n",
    "\n",
    "X = \"\"\"\n",
    "X...X\n",
    ".X.X.\n",
    "..X..\n",
    ".X.X.\n",
    "X...X\n",
    "\"\"\""
   ]
  },
  {
   "cell_type": "markdown",
   "metadata": {},
   "source": [
    "Define functions to plot patterns"
   ]
  },
  {
   "cell_type": "code",
   "execution_count": 2,
   "metadata": {
    "collapsed": false
   },
   "outputs": [],
   "source": [
    "def to_pattern(letter):\n",
    "    return np.array([+1 if c=='X' else -1 for c in letter.replace('\\n','')])"
   ]
  },
  {
   "cell_type": "code",
   "execution_count": 3,
   "metadata": {
    "collapsed": false
   },
   "outputs": [],
   "source": [
    "import pylab as plt\n",
    "import numpy as np\n",
    "def display(patterns):\n",
    "    from pylab import imshow, cm, show\n",
    "    plt.subplot(1, 3, 1)\n",
    "    p0=imshow(patterns[0].reshape((5,5)),cmap=cm.binary, interpolation='nearest')\n",
    "    plt.subplot(1, 3, 2)\n",
    "    p1=imshow(patterns[1].reshape((5,5)),cmap=cm.binary, interpolation='nearest')\n",
    "    plt.subplot(1, 3, 3)\n",
    "    p2=imshow(patterns[2].reshape((5,5)),cmap=cm.binary, interpolation='nearest')\n",
    "    plt.show()\n",
    "    "
   ]
  },
  {
   "cell_type": "code",
   "execution_count": 4,
   "metadata": {
    "collapsed": false
   },
   "outputs": [
    {
     "data": {
      "image/png": "[encoded data removed]",
      "text/plain": [
       "<matplotlib.figure.Figure at 0x7f3b50e89d50>"
      ]
     },
     "metadata": {},
     "output_type": "display_data"
    }
   ],
   "source": [
    "patterns = np.array([to_pattern(A), to_pattern(Z), to_pattern(X)])\n",
    "display(patterns)"
   ]
  },
  {
   "cell_type": "markdown",
   "metadata": {},
   "source": [
    "Training = set weights"
   ]
  },
  {
   "cell_type": "code",
   "execution_count": 5,
   "metadata": {
    "collapsed": false
   },
   "outputs": [],
   "source": [
    "def train(patterns):\n",
    "    from numpy import zeros, outer, diag_indices \n",
    "    r,c = patterns.shape\n",
    "    W = zeros((c,c))\n",
    "    for p in patterns:\n",
    "        W = W + outer(p,p)\n",
    "    W[diag_indices(c)] = 0\n",
    "    return W/r"
   ]
  },
  {
   "cell_type": "code",
   "execution_count": 6,
   "metadata": {
    "collapsed": false
   },
   "outputs": [],
   "source": [
    "w=train(patterns)\n",
    "#print w"
   ]
  },
  {
   "cell_type": "markdown",
   "metadata": {},
   "source": [
    "Calculate energy of given pattern."
   ]
  },
  {
   "cell_type": "code",
   "execution_count": 7,
   "metadata": {
    "collapsed": false
   },
   "outputs": [],
   "source": [
    "e=[]\n",
    "def energy(W,patterns):\n",
    "    e0=e1=e2=0\n",
    "    for i, j in np.ndindex((25,25)):\n",
    "        e0+=-0.5*patterns[0][i]*patterns[0][j]*W[i][j]\n",
    "        e1+=-0.5*patterns[1][i]*patterns[1][j]*W[i][j]\n",
    "        e2+=-0.5*patterns[2][i]*patterns[2][j]*W[i][j]\n",
    "        #print e0\n",
    "    e.append([e0,e1,e2])\n",
    "    return e\n"
   ]
  },
  {
   "cell_type": "markdown",
   "metadata": {},
   "source": [
    "Set number of steps = number of updates of the patterns."
   ]
  },
  {
   "cell_type": "code",
   "execution_count": 8,
   "metadata": {
    "collapsed": false
   },
   "outputs": [],
   "source": [
    "from numpy import vectorize, dot\n",
    "def recall(W, patterns, steps=60):\n",
    "    for step in xrange(steps):        \n",
    "        print \"Step: \",step\n",
    "        for p in patterns:\n",
    "            rnd=np.random.randint(25)\n",
    "            s=dot(p,W[rnd])\n",
    "            #if((step%10)==0):\n",
    "            print \"chosen pixel: \",rnd, \", node sum: \",s\n",
    "            if s>0:                                            #all thresholds set to zero\n",
    "                p[rnd]=1\n",
    "            else:\n",
    "                p[rnd]=-1 \n",
    "        #if((step%10)==0):\n",
    "        display(patterns)\n",
    "        energy(W,patterns)\n",
    "    return patterns"
   ]
  },
  {
   "cell_type": "markdown",
   "metadata": {},
   "source": [
    "Set disortion parameter \"pr\" = probability that pixel remains unchanged."
   ]
  },
  {
   "cell_type": "code",
   "execution_count": 9,
   "metadata": {
    "collapsed": false
   },
   "outputs": [
    {
     "name": "stdout",
     "output_type": "stream",
     "text": [
      "[0 0 0 0 0 0 1 0 0 0 0 1 0 0 0 1 0 0 1 0 0 0 0 1 1]\n",
      "[0 0 0 0 0 0 0 0 0 0 0 0 0 0 0 0 1 0 0 0 1 0 0 1 0]\n",
      "[0 1 0 1 0 0 0 0 1 0 0 0 1 0 0 0 0 0 1 0 1 0 0 0 0]\n"
     ]
    }
   ],
   "source": [
    "pr=0.8\n",
    "\n",
    "distA=np.random.choice(2, 25, p=[pr,1-pr])\n",
    "print distA\n",
    "distZ=np.random.choice(2, 25, p=[pr,1-pr])\n",
    "print distZ\n",
    "distX=np.random.choice(2, 25, p=[pr,1-pr])\n",
    "print distX\n",
    "\n",
    "dists= np.array([distA,distZ,distX])"
   ]
  },
  {
   "cell_type": "code",
   "execution_count": 10,
   "metadata": {
    "collapsed": false
   },
   "outputs": [
    {
     "data": {
      "image/png": "[encoded data removed]",
      "text/plain": [
       "<matplotlib.figure.Figure at 0x7f3b2cb0cf90>"
      ]
     },
     "metadata": {},
     "output_type": "display_data"
    }
   ],
   "source": [
    "display(patterns)\n",
    "#print dist_patterns[0]"
   ]
  },
  {
   "cell_type": "code",
   "execution_count": 11,
   "metadata": {
    "collapsed": false,
    "scrolled": false
   },
   "outputs": [
    {
     "data": {
      "image/png": "[encoded data removed]",
      "text/plain": [
       "<matplotlib.figure.Figure at 0x7f3b2c91d090>"
      ]
     },
     "metadata": {},
     "output_type": "display_data"
    }
   ],
   "source": [
    "dist_patterns = patterns + 2*dists*(-np.abs(patterns)/patterns)\n",
    "\n",
    "display(dist_patterns)"
   ]
  },
  {
   "cell_type": "code",
   "execution_count": 12,
   "metadata": {
    "collapsed": false,
    "scrolled": false
   },
   "outputs": [
    {
     "name": "stdout",
     "output_type": "stream",
     "text": [
      "Step:  0\n",
      "chosen pixel:  23 , node sum:  -5.33333333333\n",
      "chosen pixel:  9 , node sum:  -8.66666666667\n",
      "chosen pixel:  10 , node sum:  -8.0\n"
     ]
    },
    {
     "data": {
      "image/png": "[encoded data removed]",
      "text/plain": [
       "<matplotlib.figure.Figure at 0x7f3b50e89d10>"
      ]
     },
     "metadata": {},
     "output_type": "display_data"
    },
    {
     "name": "stdout",
     "output_type": "stream",
     "text": [
      "Step:  1\n",
      "chosen pixel:  4 , node sum:  -7.33333333333\n",
      "chosen pixel:  7 , node sum:  -6.66666666667\n",
      "chosen pixel:  1 , node sum:  -4.0\n"
     ]
    },
    {
     "data": {
      "image/png": "[encoded data removed]",
      "text/plain": [
       "<matplotlib.figure.Figure at 0x7f3b2c8abb50>"
      ]
     },
     "metadata": {},
     "output_type": "display_data"
    },
    {
     "name": "stdout",
     "output_type": "stream",
     "text": [
      "Step:  2\n",
      "chosen pixel:  10 , node sum:  7.33333333333\n",
      "chosen pixel:  23 , node sum:  6.0\n",
      "chosen pixel:  23 , node sum:  0.666666666667\n"
     ]
    },
    {
     "data": {
      "image/png": "[encoded data removed]",
      "text/plain": [
       "<matplotlib.figure.Figure at 0x7f3b2c82b610>"
      ]
     },
     "metadata": {},
     "output_type": "display_data"
    },
    {
     "name": "stdout",
     "output_type": "stream",
     "text": [
      "Step:  3\n",
      "chosen pixel:  11 , node sum:  9.33333333333\n",
      "chosen pixel:  9 , node sum:  -9.33333333333\n",
      "chosen pixel:  24 , node sum:  3.33333333333\n"
     ]
    },
    {
     "data": {
      "image/png": "[encoded data removed]",
      "text/plain": [
       "<matplotlib.figure.Figure at 0x7f3b2ca79210>"
      ]
     },
     "metadata": {},
     "output_type": "display_data"
    },
    {
     "name": "stdout",
     "output_type": "stream",
     "text": [
      "Step:  4\n",
      "chosen pixel:  6 , node sum:  -5.33333333333\n",
      "chosen pixel:  12 , node sum:  6.0\n",
      "chosen pixel:  13 , node sum:  -9.33333333333\n"
     ]
    },
    {
     "data": {
      "image/png": "[encoded data removed]",
      "text/plain": [
       "<matplotlib.figure.Figure at 0x7f3b2c68c8d0>"
      ]
     },
     "metadata": {},
     "output_type": "display_data"
    },
    {
     "name": "stdout",
     "output_type": "stream",
     "text": [
      "Step:  5\n",
      "chosen pixel:  14 , node sum:  10.0\n",
      "chosen pixel:  0 , node sum:  9.33333333333\n",
      "chosen pixel:  24 , node sum:  3.33333333333\n"
     ]
    },
    {
     "data": {
      "image/png": "[encoded data removed]",
      "text/plain": [
       "<matplotlib.figure.Figure at 0x7f3b2cc1c050>"
      ]
     },
     "metadata": {},
     "output_type": "display_data"
    },
    {
     "name": "stdout",
     "output_type": "stream",
     "text": [
      "Step:  6\n",
      "chosen pixel:  16 , node sum:  -10.0\n",
      "chosen pixel:  18 , node sum:  -2.66666666667\n",
      "chosen pixel:  9 , node sum:  -9.33333333333\n"
     ]
    },
    {
     "data": {
      "image/png": "[encoded data removed]",
      "text/plain": [
       "<matplotlib.figure.Figure at 0x7f3b2c4792d0>"
      ]
     },
     "metadata": {},
     "output_type": "display_data"
    },
    {
     "name": "stdout",
     "output_type": "stream",
     "text": [
      "Step:  7\n",
      "chosen pixel:  2 , node sum:  5.33333333333\n",
      "chosen pixel:  24 , node sum:  6.0\n",
      "chosen pixel:  3 , node sum:  -5.33333333333\n"
     ]
    },
    {
     "data": {
      "image/png": "[encoded data removed]",
      "text/plain": [
       "<matplotlib.figure.Figure at 0x7f3b2cb65150>"
      ]
     },
     "metadata": {},
     "output_type": "display_data"
    },
    {
     "name": "stdout",
     "output_type": "stream",
     "text": [
      "Step:  8\n",
      "chosen pixel:  12 , node sum:  0.666666666667\n",
      "chosen pixel:  21 , node sum:  6.0\n",
      "chosen pixel:  24 , node sum:  2.66666666667\n"
     ]
    },
    {
     "data": {
      "image/png": "[encoded data removed]",
      "text/plain": [
       "<matplotlib.figure.Figure at 0x7f3b2c4e3bd0>"
      ]
     },
     "metadata": {},
     "output_type": "display_data"
    },
    {
     "name": "stdout",
     "output_type": "stream",
     "text": [
      "Step:  9\n",
      "chosen pixel:  2 , node sum:  5.33333333333\n",
      "chosen pixel:  11 , node sum:  -9.33333333333\n",
      "chosen pixel:  5 , node sum:  -10.0\n"
     ]
    },
    {
     "data": {
      "image/png": "[encoded data removed]",
      "text/plain": [
       "<matplotlib.figure.Figure at 0x7f3b2c32d7d0>"
      ]
     },
     "metadata": {},
     "output_type": "display_data"
    },
    {
     "name": "stdout",
     "output_type": "stream",
     "text": [
      "Step:  10\n",
      "chosen pixel:  7 , node sum:  -0.666666666667\n",
      "chosen pixel:  19 , node sum:  -9.33333333333\n",
      "chosen pixel:  1 , node sum:  -5.33333333333\n"
     ]
    },
    {
     "data": {
      "image/png": "[encoded data removed]",
      "text/plain": [
       "<matplotlib.figure.Figure at 0x7f3b2c803590>"
      ]
     },
     "metadata": {},
     "output_type": "display_data"
    },
    {
     "name": "stdout",
     "output_type": "stream",
     "text": [
      "Step:  11\n",
      "chosen pixel:  7 , node sum:  -0.666666666667\n",
      "chosen pixel:  2 , node sum:  2.66666666667\n",
      "chosen pixel:  15 , node sum:  -10.0\n"
     ]
    },
    {
     "data": {
      "image/png": "[encoded data removed]",
      "text/plain": [
       "<matplotlib.figure.Figure at 0x7f3b2c1aac50>"
      ]
     },
     "metadata": {},
     "output_type": "display_data"
    },
    {
     "name": "stdout",
     "output_type": "stream",
     "text": [
      "Step:  12\n",
      "chosen pixel:  1 , node sum:  5.33333333333\n",
      "chosen pixel:  21 , node sum:  6.0\n",
      "chosen pixel:  20 , node sum:  4.66666666667\n"
     ]
    },
    {
     "data": {
      "image/png": "[encoded data removed]",
      "text/plain": [
       "<matplotlib.figure.Figure at 0x7f3b2ca0e3d0>"
      ]
     },
     "metadata": {},
     "output_type": "display_data"
    },
    {
     "name": "stdout",
     "output_type": "stream",
     "text": [
      "Step:  13\n",
      "chosen pixel:  21 , node sum:  -5.33333333333\n",
      "chosen pixel:  16 , node sum:  11.3333333333\n",
      "chosen pixel:  8 , node sum:  12.6666666667\n"
     ]
    },
    {
     "data": {
      "image/png": "[encoded data removed]",
      "text/plain": [
       "<matplotlib.figure.Figure at 0x7f3b2cc77650>"
      ]
     },
     "metadata": {},
     "output_type": "display_data"
    },
    {
     "name": "stdout",
     "output_type": "stream",
     "text": [
      "Step:  14\n",
      "chosen pixel:  5 , node sum:  10.0\n",
      "chosen pixel:  10 , node sum:  -11.3333333333\n",
      "chosen pixel:  20 , node sum:  5.33333333333\n"
     ]
    },
    {
     "data": {
      "image/png": "[encoded data removed]",
      "text/plain": [
       "<matplotlib.figure.Figure at 0x7f3b2c8a9590>"
      ]
     },
     "metadata": {},
     "output_type": "display_data"
    },
    {
     "name": "stdout",
     "output_type": "stream",
     "text": [
      "Step:  15\n",
      "chosen pixel:  0 , node sum:  -10.0\n",
      "chosen pixel:  15 , node sum:  -11.3333333333\n",
      "chosen pixel:  22 , node sum:  2.0\n"
     ]
    },
    {
     "data": {
      "image/png": "[encoded data removed]",
      "text/plain": [
       "<matplotlib.figure.Figure at 0x7f3b2c1aae50>"
      ]
     },
     "metadata": {},
     "output_type": "display_data"
    },
    {
     "name": "stdout",
     "output_type": "stream",
     "text": [
      "Step:  16\n",
      "chosen pixel:  22 , node sum:  -5.33333333333\n",
      "chosen pixel:  2 , node sum:  2.0\n",
      "chosen pixel:  8 , node sum:  13.3333333333\n"
     ]
    },
    {
     "data": {
      "image/png": "[encoded data removed]",
      "text/plain": [
       "<matplotlib.figure.Figure at 0x7f3b2cc4a710>"
      ]
     },
     "metadata": {},
     "output_type": "display_data"
    },
    {
     "name": "stdout",
     "output_type": "stream",
     "text": [
      "Step:  17\n",
      "chosen pixel:  5 , node sum:  10.0\n",
      "chosen pixel:  4 , node sum:  11.3333333333\n",
      "chosen pixel:  22 , node sum:  2.0\n"
     ]
    },
    {
     "data": {
      "image/png": "[encoded data removed]",
      "text/plain": [
       "<matplotlib.figure.Figure at 0x7f3b2c644d10>"
      ]
     },
     "metadata": {},
     "output_type": "display_data"
    },
    {
     "name": "stdout",
     "output_type": "stream",
     "text": [
      "Step:  18\n",
      "chosen pixel:  1 , node sum:  5.33333333333\n",
      "chosen pixel:  23 , node sum:  6.66666666667\n",
      "chosen pixel:  16 , node sum:  13.3333333333\n"
     ]
    },
    {
     "data": {
      "image/png": "[encoded data removed]",
      "text/plain": [
       "<matplotlib.figure.Figure at 0x7f3b2c7aee10>"
      ]
     },
     "metadata": {},
     "output_type": "display_data"
    },
    {
     "name": "stdout",
     "output_type": "stream",
     "text": [
      "Step:  19\n",
      "chosen pixel:  5 , node sum:  10.0\n",
      "chosen pixel:  20 , node sum:  8.66666666667\n",
      "chosen pixel:  20 , node sum:  4.66666666667\n"
     ]
    },
    {
     "data": {
      "image/png": "[encoded data removed]",
      "text/plain": [
       "<matplotlib.figure.Figure at 0x7f3b2c536950>"
      ]
     },
     "metadata": {},
     "output_type": "display_data"
    },
    {
     "name": "stdout",
     "output_type": "stream",
     "text": [
      "Step:  20\n",
      "chosen pixel:  10 , node sum:  10.0\n",
      "chosen pixel:  3 , node sum:  2.66666666667\n",
      "chosen pixel:  7 , node sum:  -4.66666666667\n"
     ]
    },
    {
     "data": {
      "image/png": "[encoded data removed]",
      "text/plain": [
       "<matplotlib.figure.Figure at 0x7f3b2c638550>"
      ]
     },
     "metadata": {},
     "output_type": "display_data"
    },
    {
     "name": "stdout",
     "output_type": "stream",
     "text": [
      "Step:  21\n",
      "chosen pixel:  16 , node sum:  -10.0\n",
      "chosen pixel:  21 , node sum:  6.0\n",
      "chosen pixel:  18 , node sum:  6.66666666667\n"
     ]
    },
    {
     "data": {
      "image/png": "[encoded data removed]",
      "text/plain": [
       "<matplotlib.figure.Figure at 0x7f3b2c4c9650>"
      ]
     },
     "metadata": {},
     "output_type": "display_data"
    },
    {
     "name": "stdout",
     "output_type": "stream",
     "text": [
      "Step:  22\n",
      "chosen pixel:  14 , node sum:  10.0\n",
      "chosen pixel:  2 , node sum:  2.66666666667\n",
      "chosen pixel:  19 , node sum:  -14.0\n"
     ]
    },
    {
     "data": {
      "image/png": "[encoded data removed]",
      "text/plain": [
       "<matplotlib.figure.Figure at 0x7f3b2c78eb10>"
      ]
     },
     "metadata": {},
     "output_type": "display_data"
    },
    {
     "name": "stdout",
     "output_type": "stream",
     "text": [
      "Step:  23\n",
      "chosen pixel:  9 , node sum:  10.0\n",
      "chosen pixel:  4 , node sum:  12.0\n",
      "chosen pixel:  16 , node sum:  14.0\n"
     ]
    },
    {
     "data": {
      "image/png": "[encoded data removed]",
      "text/plain": [
       "<matplotlib.figure.Figure at 0x7f3b2c31d110>"
      ]
     },
     "metadata": {},
     "output_type": "display_data"
    },
    {
     "name": "stdout",
     "output_type": "stream",
     "text": [
      "Step:  24\n",
      "chosen pixel:  11 , node sum:  10.0\n",
      "chosen pixel:  8 , node sum:  12.0\n",
      "chosen pixel:  6 , node sum:  6.66666666667\n"
     ]
    },
    {
     "data": {
      "image/png": "[encoded data removed]",
      "text/plain": [
       "<matplotlib.figure.Figure at 0x7f3b2c738810>"
      ]
     },
     "metadata": {},
     "output_type": "display_data"
    },
    {
     "name": "stdout",
     "output_type": "stream",
     "text": [
      "Step:  25\n",
      "chosen pixel:  18 , node sum:  -7.33333333333\n",
      "chosen pixel:  1 , node sum:  2.66666666667\n",
      "chosen pixel:  19 , node sum:  -14.0\n"
     ]
    },
    {
     "data": {
      "image/png": "[encoded data removed]",
      "text/plain": [
       "<matplotlib.figure.Figure at 0x7f3b2c562590>"
      ]
     },
     "metadata": {},
     "output_type": "display_data"
    },
    {
     "name": "stdout",
     "output_type": "stream",
     "text": [
      "Step:  26\n",
      "chosen pixel:  15 , node sum:  12.6666666667\n",
      "chosen pixel:  12 , node sum:  8.66666666667\n",
      "chosen pixel:  20 , node sum:  4.0\n"
     ]
    },
    {
     "data": {
      "image/png": "[encoded data removed]",
      "text/plain": [
       "<matplotlib.figure.Figure at 0x7f3b2c260f10>"
      ]
     },
     "metadata": {},
     "output_type": "display_data"
    },
    {
     "name": "stdout",
     "output_type": "stream",
     "text": [
      "Step:  27\n",
      "chosen pixel:  12 , node sum:  0.666666666667\n",
      "chosen pixel:  19 , node sum:  -12.0\n",
      "chosen pixel:  13 , node sum:  -14.0\n"
     ]
    },
    {
     "data": {
      "image/png": "[encoded data removed]",
      "text/plain": [
       "<matplotlib.figure.Figure at 0x7f3b2cac1150>"
      ]
     },
     "metadata": {},
     "output_type": "display_data"
    },
    {
     "name": "stdout",
     "output_type": "stream",
     "text": [
      "Step:  28\n",
      "chosen pixel:  23 , node sum:  -5.33333333333\n",
      "chosen pixel:  9 , node sum:  -12.0\n",
      "chosen pixel:  11 , node sum:  -14.0\n"
     ]
    },
    {
     "data": {
      "image/png": "[encoded data removed]",
      "text/plain": [
       "<matplotlib.figure.Figure at 0x7f3b2c16ebd0>"
      ]
     },
     "metadata": {},
     "output_type": "display_data"
    },
    {
     "name": "stdout",
     "output_type": "stream",
     "text": [
      "Step:  29\n",
      "chosen pixel:  23 , node sum:  -5.33333333333\n",
      "chosen pixel:  6 , node sum:  -2.66666666667\n",
      "chosen pixel:  1 , node sum:  -6.66666666667\n"
     ]
    },
    {
     "data": {
      "image/png": "[encoded data removed]",
      "text/plain": [
       "<matplotlib.figure.Figure at 0x7f3b2c2e4b50>"
      ]
     },
     "metadata": {},
     "output_type": "display_data"
    },
    {
     "name": "stdout",
     "output_type": "stream",
     "text": [
      "Step:  30\n",
      "chosen pixel:  5 , node sum:  12.6666666667\n",
      "chosen pixel:  19 , node sum:  -12.0\n",
      "chosen pixel:  17 , node sum:  -4.0\n"
     ]
    },
    {
     "data": {
      "image/png": "[encoded data removed]",
      "text/plain": [
       "<matplotlib.figure.Figure at 0x7f3b2c369a90>"
      ]
     },
     "metadata": {},
     "output_type": "display_data"
    },
    {
     "name": "stdout",
     "output_type": "stream",
     "text": [
      "Step:  31\n",
      "chosen pixel:  22 , node sum:  -5.33333333333\n",
      "chosen pixel:  12 , node sum:  8.66666666667\n",
      "chosen pixel:  12 , node sum:  6.0\n"
     ]
    },
    {
     "data": {
      "image/png": "[encoded data removed]",
      "text/plain": [
       "<matplotlib.figure.Figure at 0x7f3b2c6e1810>"
      ]
     },
     "metadata": {},
     "output_type": "display_data"
    },
    {
     "name": "stdout",
     "output_type": "stream",
     "text": [
      "Step:  32\n",
      "chosen pixel:  0 , node sum:  -12.6666666667\n",
      "chosen pixel:  9 , node sum:  -12.0\n",
      "chosen pixel:  15 , node sum:  -14.6666666667\n"
     ]
    },
    {
     "data": {
      "image/png": "[encoded data removed]",
      "text/plain": [
       "<matplotlib.figure.Figure at 0x7f3b2c5df4d0>"
      ]
     },
     "metadata": {},
     "output_type": "display_data"
    },
    {
     "name": "stdout",
     "output_type": "stream",
     "text": [
      "Step:  33\n",
      "chosen pixel:  14 , node sum:  12.6666666667\n",
      "chosen pixel:  7 , node sum:  -8.66666666667\n",
      "chosen pixel:  8 , node sum:  14.6666666667\n"
     ]
    },
    {
     "data": {
      "image/png": "[encoded data removed]",
      "text/plain": [
       "<matplotlib.figure.Figure at 0x7f3b2c81ccd0>"
      ]
     },
     "metadata": {},
     "output_type": "display_data"
    },
    {
     "name": "stdout",
     "output_type": "stream",
     "text": [
      "Step:  34\n",
      "chosen pixel:  20 , node sum:  0.666666666667\n",
      "chosen pixel:  7 , node sum:  -8.66666666667\n",
      "chosen pixel:  23 , node sum:  0.666666666667\n"
     ]
    },
    {
     "data": {
      "image/png": "[encoded data removed]",
      "text/plain": [
       "<matplotlib.figure.Figure at 0x7f3b2cb6c350>"
      ]
     },
     "metadata": {},
     "output_type": "display_data"
    },
    {
     "name": "stdout",
     "output_type": "stream",
     "text": [
      "Step:  35\n",
      "chosen pixel:  6 , node sum:  -8.0\n",
      "chosen pixel:  8 , node sum:  12.0\n",
      "chosen pixel:  0 , node sum:  14.6666666667\n"
     ]
    },
    {
     "data": {
      "image/png": "[encoded data removed]",
      "text/plain": [
       "<matplotlib.figure.Figure at 0x7f3b2c7b46d0>"
      ]
     },
     "metadata": {},
     "output_type": "display_data"
    },
    {
     "name": "stdout",
     "output_type": "stream",
     "text": [
      "Step:  36\n",
      "chosen pixel:  6 , node sum:  -8.0\n",
      "chosen pixel:  6 , node sum:  -2.66666666667\n",
      "chosen pixel:  14 , node sum:  -14.6666666667\n"
     ]
    },
    {
     "data": {
      "image/png": "[encoded data removed]",
      "text/plain": [
       "<matplotlib.figure.Figure at 0x7f3b2c77a9d0>"
      ]
     },
     "metadata": {},
     "output_type": "display_data"
    },
    {
     "name": "stdout",
     "output_type": "stream",
     "text": [
      "Step:  37\n",
      "chosen pixel:  15 , node sum:  12.6666666667\n",
      "chosen pixel:  3 , node sum:  2.66666666667\n",
      "chosen pixel:  7 , node sum:  -6.0\n"
     ]
    },
    {
     "data": {
      "image/png": "[encoded data removed]",
      "text/plain": [
       "<matplotlib.figure.Figure at 0x7f3b2c5b5d90>"
      ]
     },
     "metadata": {},
     "output_type": "display_data"
    },
    {
     "name": "stdout",
     "output_type": "stream",
     "text": [
      "Step:  38\n",
      "chosen pixel:  2 , node sum:  8.0\n",
      "chosen pixel:  16 , node sum:  12.0\n",
      "chosen pixel:  14 , node sum:  -14.6666666667\n"
     ]
    },
    {
     "data": {
      "image/png": "[encoded data removed]",
      "text/plain": [
       "<matplotlib.figure.Figure at 0x7f3b2c784a50>"
      ]
     },
     "metadata": {},
     "output_type": "display_data"
    },
    {
     "name": "stdout",
     "output_type": "stream",
     "text": [
      "Step:  39\n",
      "chosen pixel:  14 , node sum:  12.6666666667\n",
      "chosen pixel:  23 , node sum:  6.0\n",
      "chosen pixel:  2 , node sum:  -6.0\n"
     ]
    },
    {
     "data": {
      "image/png": "[encoded data removed]",
      "text/plain": [
       "<matplotlib.figure.Figure at 0x7f3b2c357290>"
      ]
     },
     "metadata": {},
     "output_type": "display_data"
    },
    {
     "name": "stdout",
     "output_type": "stream",
     "text": [
      "Step:  40\n",
      "chosen pixel:  21 , node sum:  -5.33333333333\n",
      "chosen pixel:  4 , node sum:  12.0\n",
      "chosen pixel:  6 , node sum:  6.0\n"
     ]
    },
    {
     "data": {
      "image/png": "[encoded data removed]",
      "text/plain": [
       "<matplotlib.figure.Figure at 0x7f3b2cb16750>"
      ]
     },
     "metadata": {},
     "output_type": "display_data"
    },
    {
     "name": "stdout",
     "output_type": "stream",
     "text": [
      "Step:  41\n",
      "chosen pixel:  15 , node sum:  12.6666666667\n",
      "chosen pixel:  6 , node sum:  -2.66666666667\n",
      "chosen pixel:  9 , node sum:  -14.6666666667\n"
     ]
    },
    {
     "data": {
      "image/png": "[encoded data removed]",
      "text/plain": [
       "<matplotlib.figure.Figure at 0x7f3b2c517a10>"
      ]
     },
     "metadata": {},
     "output_type": "display_data"
    },
    {
     "name": "stdout",
     "output_type": "stream",
     "text": [
      "Step:  42\n",
      "chosen pixel:  1 , node sum:  8.0\n",
      "chosen pixel:  14 , node sum:  -12.0\n",
      "chosen pixel:  14 , node sum:  -14.6666666667\n"
     ]
    },
    {
     "data": {
      "image/png": "[encoded data removed]",
      "text/plain": [
       "<matplotlib.figure.Figure at 0x7f3b2c7e6610>"
      ]
     },
     "metadata": {},
     "output_type": "display_data"
    },
    {
     "name": "stdout",
     "output_type": "stream",
     "text": [
      "Step:  43\n",
      "chosen pixel:  22 , node sum:  -5.33333333333\n",
      "chosen pixel:  14 , node sum:  -12.0\n",
      "chosen pixel:  9 , node sum:  -14.6666666667\n"
     ]
    },
    {
     "data": {
      "image/png": "[encoded data removed]",
      "text/plain": [
       "<matplotlib.figure.Figure at 0x7f3b2c4e84d0>"
      ]
     },
     "metadata": {},
     "output_type": "display_data"
    },
    {
     "name": "stdout",
     "output_type": "stream",
     "text": [
      "Step:  44\n",
      "chosen pixel:  1 , node sum:  8.0\n",
      "chosen pixel:  3 , node sum:  2.66666666667\n",
      "chosen pixel:  12 , node sum:  6.0\n"
     ]
    },
    {
     "data": {
      "image/png": "[encoded data removed]",
      "text/plain": [
       "<matplotlib.figure.Figure at 0x7f3b2c8e8a10>"
      ]
     },
     "metadata": {},
     "output_type": "display_data"
    },
    {
     "name": "stdout",
     "output_type": "stream",
     "text": [
      "Step:  45\n",
      "chosen pixel:  12 , node sum:  0.666666666667\n",
      "chosen pixel:  12 , node sum:  8.66666666667\n",
      "chosen pixel:  23 , node sum:  0.666666666667\n"
     ]
    },
    {
     "data": {
      "image/png": "[encoded data removed]",
      "text/plain": [
       "<matplotlib.figure.Figure at 0x7f3b2c4cf610>"
      ]
     },
     "metadata": {},
     "output_type": "display_data"
    },
    {
     "name": "stdout",
     "output_type": "stream",
     "text": [
      "Step:  46\n",
      "chosen pixel:  0 , node sum:  -12.6666666667\n",
      "chosen pixel:  13 , node sum:  -12.0\n",
      "chosen pixel:  13 , node sum:  -14.6666666667\n"
     ]
    },
    {
     "data": {
      "image/png": "[encoded data removed]",
      "text/plain": [
       "<matplotlib.figure.Figure at 0x7f3b2c715690>"
      ]
     },
     "metadata": {},
     "output_type": "display_data"
    },
    {
     "name": "stdout",
     "output_type": "stream",
     "text": [
      "Step:  47\n",
      "chosen pixel:  19 , node sum:  12.6666666667\n",
      "chosen pixel:  6 , node sum:  -2.66666666667\n",
      "chosen pixel:  5 , node sum:  -14.6666666667\n"
     ]
    },
    {
     "data": {
      "image/png": "[encoded data removed]",
      "text/plain": [
       "<matplotlib.figure.Figure at 0x7f3b2c7151d0>"
      ]
     },
     "metadata": {},
     "output_type": "display_data"
    },
    {
     "name": "stdout",
     "output_type": "stream",
     "text": [
      "Step:  48\n",
      "chosen pixel:  13 , node sum:  12.6666666667\n",
      "chosen pixel:  6 , node sum:  -2.66666666667\n",
      "chosen pixel:  3 , node sum:  -6.0\n"
     ]
    },
    {
     "data": {
      "image/png": "[encoded data removed]",
      "text/plain": [
       "<matplotlib.figure.Figure at 0x7f3b2c7ed7d0>"
      ]
     },
     "metadata": {},
     "output_type": "display_data"
    },
    {
     "name": "stdout",
     "output_type": "stream",
     "text": [
      "Step:  49\n",
      "chosen pixel:  24 , node sum:  2.66666666667\n",
      "chosen pixel:  8 , node sum:  12.0\n",
      "chosen pixel:  18 , node sum:  6.0\n"
     ]
    },
    {
     "data": {
      "image/png": "[encoded data removed]",
      "text/plain": [
       "<matplotlib.figure.Figure at 0x7f3b2c4e6e90>"
      ]
     },
     "metadata": {},
     "output_type": "display_data"
    },
    {
     "name": "stdout",
     "output_type": "stream",
     "text": [
      "Step:  50\n",
      "chosen pixel:  18 , node sum:  -8.66666666667\n",
      "chosen pixel:  18 , node sum:  -2.66666666667\n",
      "chosen pixel:  17 , node sum:  -6.0\n"
     ]
    },
    {
     "data": {
      "image/png": "[encoded data removed]",
      "text/plain": [
       "<matplotlib.figure.Figure at 0x7f3b2c9239d0>"
      ]
     },
     "metadata": {},
     "output_type": "display_data"
    },
    {
     "name": "stdout",
     "output_type": "stream",
     "text": [
      "Step:  51\n",
      "chosen pixel:  20 , node sum:  2.66666666667\n",
      "chosen pixel:  12 , node sum:  8.66666666667\n",
      "chosen pixel:  11 , node sum:  -14.6666666667\n"
     ]
    },
    {
     "data": {
      "image/png": "[encoded data removed]",
      "text/plain": [
       "<matplotlib.figure.Figure at 0x7f3b2cb16dd0>"
      ]
     },
     "metadata": {},
     "output_type": "display_data"
    },
    {
     "name": "stdout",
     "output_type": "stream",
     "text": [
      "Step:  52\n",
      "chosen pixel:  21 , node sum:  -6.0\n",
      "chosen pixel:  20 , node sum:  8.66666666667\n",
      "chosen pixel:  8 , node sum:  14.6666666667\n"
     ]
    },
    {
     "data": {
      "image/png": "[encoded data removed]",
      "text/plain": [
       "<matplotlib.figure.Figure at 0x7f3b2c9be990>"
      ]
     },
     "metadata": {},
     "output_type": "display_data"
    },
    {
     "name": "stdout",
     "output_type": "stream",
     "text": [
      "Step:  53\n",
      "chosen pixel:  19 , node sum:  12.0\n",
      "chosen pixel:  0 , node sum:  12.0\n",
      "chosen pixel:  17 , node sum:  -6.0\n"
     ]
    },
    {
     "data": {
      "image/png": "[encoded data removed]",
      "text/plain": [
       "<matplotlib.figure.Figure at 0x7f3b2c667690>"
      ]
     },
     "metadata": {},
     "output_type": "display_data"
    },
    {
     "name": "stdout",
     "output_type": "stream",
     "text": [
      "Step:  54\n",
      "chosen pixel:  23 , node sum:  -6.0\n",
      "chosen pixel:  13 , node sum:  -12.0\n",
      "chosen pixel:  18 , node sum:  6.0\n"
     ]
    },
    {
     "data": {
      "image/png": "[encoded data removed]",
      "text/plain": [
       "<matplotlib.figure.Figure at 0x7f3b2c8074d0>"
      ]
     },
     "metadata": {},
     "output_type": "display_data"
    },
    {
     "name": "stdout",
     "output_type": "stream",
     "text": [
      "Step:  55\n",
      "chosen pixel:  7 , node sum:  -2.66666666667\n",
      "chosen pixel:  17 , node sum:  -8.66666666667\n",
      "chosen pixel:  7 , node sum:  -6.0\n"
     ]
    },
    {
     "data": {
      "image/png": "[encoded data removed]",
      "text/plain": [
       "<matplotlib.figure.Figure at 0x7f3b30263f50>"
      ]
     },
     "metadata": {},
     "output_type": "display_data"
    },
    {
     "name": "stdout",
     "output_type": "stream",
     "text": [
      "Step:  56\n",
      "chosen pixel:  21 , node sum:  -6.0\n",
      "chosen pixel:  24 , node sum:  8.66666666667\n",
      "chosen pixel:  17 , node sum:  -6.0\n"
     ]
    },
    {
     "data": {
      "image/png": "[encoded data removed]",
      "text/plain": [
       "<matplotlib.figure.Figure at 0x7f3b2c2c0810>"
      ]
     },
     "metadata": {},
     "output_type": "display_data"
    },
    {
     "name": "stdout",
     "output_type": "stream",
     "text": [
      "Step:  57\n",
      "chosen pixel:  7 , node sum:  -2.66666666667\n",
      "chosen pixel:  19 , node sum:  -12.0\n",
      "chosen pixel:  14 , node sum:  -14.6666666667\n"
     ]
    },
    {
     "data": {
      "image/png": "[encoded data removed]",
      "text/plain": [
       "<matplotlib.figure.Figure at 0x7f3b2cbb9590>"
      ]
     },
     "metadata": {},
     "output_type": "display_data"
    },
    {
     "name": "stdout",
     "output_type": "stream",
     "text": [
      "Step:  58\n",
      "chosen pixel:  1 , node sum:  8.66666666667\n",
      "chosen pixel:  2 , node sum:  2.66666666667\n",
      "chosen pixel:  2 , node sum:  -6.0\n"
     ]
    },
    {
     "data": {
      "image/png": "[encoded data removed]",
      "text/plain": [
       "<matplotlib.figure.Figure at 0x7f3b2c2c0290>"
      ]
     },
     "metadata": {},
     "output_type": "display_data"
    },
    {
     "name": "stdout",
     "output_type": "stream",
     "text": [
      "Step:  59\n",
      "chosen pixel:  18 , node sum:  -8.66666666667\n",
      "chosen pixel:  12 , node sum:  8.66666666667\n",
      "chosen pixel:  19 , node sum:  -14.6666666667\n"
     ]
    },
    {
     "data": {
      "image/png": "[encoded data removed]",
      "text/plain": [
       "<matplotlib.figure.Figure at 0x7f3b2c952d90>"
      ]
     },
     "metadata": {},
     "output_type": "display_data"
    }
   ],
   "source": [
    "rec_patterns=recall(w,dist_patterns)"
   ]
  },
  {
   "cell_type": "code",
   "execution_count": 13,
   "metadata": {
    "collapsed": false
   },
   "outputs": [
    {
     "data": {
      "image/png": "[encoded data removed]",
      "text/plain": [
       "<matplotlib.figure.Figure at 0x7f3b2c945750>"
      ]
     },
     "metadata": {},
     "output_type": "display_data"
    }
   ],
   "source": [
    "plt.plot(np.asarray(e)[:,0],label='Pattern 1: A')\n",
    "plt.plot(np.asarray(e)[:,1],label='Pattern 2: Z')\n",
    "plt.plot(np.asarray(e)[:,2],label='Pattern 3: X')\n",
    "plt.xlabel(\"iterations\")\n",
    "plt.ylabel(\"energy\")\n",
    "plt.legend();"
   ]
  }
 ],
 "metadata": {
  "kernelspec": {
   "display_name": "Python 2",
   "language": "python",
   "name": "python2"
  },
  "language_info": {
   "codemirror_mode": {
    "name": "ipython",
    "version": 2
   },
   "file_extension": ".py",
   "mimetype": "text/x-python",
   "name": "python",
   "nbconvert_exporter": "python",
   "pygments_lexer": "ipython2",
   "version": "2.7.13"
  }
 },
 "nbformat": 4,
 "nbformat_minor": 2
}
