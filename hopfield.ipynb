{
 "cells": [
  {
   "cell_type": "markdown",
   "metadata": {},
   "source": [
    "## Demontration of Hopfield Networks for information retrieval of distorted images\n",
    "partly adapted from http://codeaffectionate.blogspot.co.at/2013/05/fun-with-hopfield-and-numpy.html which shows a different version"
   ]
  },
  {
   "cell_type": "code",
   "execution_count": 1,
   "metadata": {
    "collapsed": false
   },
   "outputs": [],
   "source": [
    "import numpy as np\n",
    "A = \"\"\"\n",
    ".XXX.\n",
    "X...X\n",
    "XXXXX\n",
    "X...X\n",
    "X...X\n",
    "\"\"\"\n",
    " \n",
    "Z = \"\"\"\n",
    "XXXXX\n",
    "...X.\n",
    "..X..\n",
    ".X...\n",
    "XXXXX\n",
    "\"\"\"\n",
    "\n",
    "\n",
    "X = \"\"\"\n",
    "X...X\n",
    ".X.X.\n",
    "..X..\n",
    ".X.X.\n",
    "X...X\n",
    "\"\"\""
   ]
  },
  {
   "cell_type": "markdown",
   "metadata": {},
   "source": [
    "Load .xls file into a Pandas data frame"
   ]
  },
  {
   "cell_type": "code",
   "execution_count": 2,
   "metadata": {
    "collapsed": false
   },
   "outputs": [],
   "source": [
    "def to_pattern(letter):\n",
    "    return np.array([+1 if c=='X' else -1 for c in letter.replace('\\n','')])"
   ]
  },
  {
   "cell_type": "code",
   "execution_count": 3,
   "metadata": {
    "collapsed": false
   },
   "outputs": [],
   "source": [
    "import pylab as plt\n",
    "import numpy as np\n",
    "def display(patterns):\n",
    "    from pylab import imshow, cm, show\n",
    "    plt.subplot(1, 3, 1)\n",
    "    p0=imshow(patterns[0].reshape((5,5)),cmap=cm.binary, interpolation='nearest')\n",
    "    plt.subplot(1, 3, 2)\n",
    "    p1=imshow(patterns[1].reshape((5,5)),cmap=cm.binary, interpolation='nearest')\n",
    "    plt.subplot(1, 3, 3)\n",
    "    p2=imshow(patterns[2].reshape((5,5)),cmap=cm.binary, interpolation='nearest')\n",
    "    plt.show()\n",
    "    "
   ]
  },
  {
   "cell_type": "code",
   "execution_count": 4,
   "metadata": {
    "collapsed": false
   },
   "outputs": [
    {
     "data": {
      "image/png": "[encoded data removed]",
      "text/plain": [
       "<matplotlib.figure.Figure at 0x7fc2a81705d0>"
      ]
     },
     "metadata": {},
     "output_type": "display_data"
    }
   ],
   "source": [
    "patterns = np.array([to_pattern(A), to_pattern(Z), to_pattern(X)])\n",
    "display(patterns)"
   ]
  },
  {
   "cell_type": "code",
   "execution_count": 5,
   "metadata": {
    "collapsed": false
   },
   "outputs": [],
   "source": [
    "def train(patterns):\n",
    "    from numpy import zeros, outer, diag_indices \n",
    "    r,c = patterns.shape\n",
    "    W = zeros((c,c))\n",
    "    for p in patterns:\n",
    "        W = W + outer(p,p)\n",
    "    W[diag_indices(c)] = 0\n",
    "    return W/r"
   ]
  },
  {
   "cell_type": "markdown",
   "metadata": {},
   "source": [
    "Training = set weights"
   ]
  },
  {
   "cell_type": "code",
   "execution_count": 6,
   "metadata": {
    "collapsed": false
   },
   "outputs": [],
   "source": [
    "w=train(patterns)\n",
    "#print w"
   ]
  },
  {
   "cell_type": "markdown",
   "metadata": {},
   "source": [
    "Set number of steps = number of updates of the patterns."
   ]
  },
  {
   "cell_type": "code",
   "execution_count": 7,
   "metadata": {
    "collapsed": false
   },
   "outputs": [],
   "source": [
    "def recall(W, patterns, steps=80):\n",
    "    from numpy import vectorize, dot\n",
    "    sgn = vectorize(lambda x: -1 if x<0 else +1)\n",
    "    for step in xrange(steps):        \n",
    "        print \"Step: \",step \n",
    "        for p in patterns:\n",
    "            rnd=np.random.randint(25)\n",
    "            s=dot(p,w[rnd])\n",
    "            #if((step%10)==0):\n",
    "            print \"chosen pixel: \",rnd, \", node sum: \",s\n",
    "            if s>0:\n",
    "                p[rnd]=1\n",
    "            else:\n",
    "                p[rnd]=-1 \n",
    "        #if((step%10)==0):\n",
    "        display(patterns)\n",
    "    return patterns"
   ]
  },
  {
   "cell_type": "markdown",
   "metadata": {},
   "source": [
    "Set disortion parameter \"pr\" = probability that pixel remains unchanged."
   ]
  },
  {
   "cell_type": "code",
   "execution_count": 8,
   "metadata": {
    "collapsed": false
   },
   "outputs": [
    {
     "name": "stdout",
     "output_type": "stream",
     "text": [
      "[1 0 0 0 0 0 0 0 0 0 0 0 1 0 0 0 1 0 0 1 0 0 0 0 0]\n",
      "[1 0 0 0 0 0 0 0 0 0 0 0 0 0 0 0 0 0 0 0 0 1 0 0 0]\n",
      "[0 0 0 1 0 0 0 0 1 0 0 0 0 0 1 0 0 0 0 1 0 0 0 1 0]\n"
     ]
    }
   ],
   "source": [
    "pr=0.9\n",
    "\n",
    "distA=np.random.choice(2, 25, p=[pr,1-pr])\n",
    "print distA\n",
    "distZ=np.random.choice(2, 25, p=[pr,1-pr])\n",
    "print distZ\n",
    "distX=np.random.choice(2, 25, p=[pr,1-pr])\n",
    "print distX\n",
    "\n",
    "dists= np.array([distA,distZ,distX])"
   ]
  },
  {
   "cell_type": "code",
   "execution_count": 9,
   "metadata": {
    "collapsed": false
   },
   "outputs": [
    {
     "data": {
      "image/png": "[encoded data removed]",
      "text/plain": [
       "<matplotlib.figure.Figure at 0x7fc289e2b310>"
      ]
     },
     "metadata": {},
     "output_type": "display_data"
    }
   ],
   "source": [
    "display(patterns)\n",
    "#print dist_patterns[0]"
   ]
  },
  {
   "cell_type": "code",
   "execution_count": 10,
   "metadata": {
    "collapsed": false,
    "scrolled": false
   },
   "outputs": [
    {
     "data": {
      "image/png": "[encoded data removed]",
      "text/plain": [
       "<matplotlib.figure.Figure at 0x7fc289c825d0>"
      ]
     },
     "metadata": {},
     "output_type": "display_data"
    }
   ],
   "source": [
    "dist_patterns = patterns + 2*dists*(-np.abs(patterns)/patterns)\n",
    "\n",
    "display(dist_patterns)"
   ]
  },
  {
   "cell_type": "code",
   "execution_count": 11,
   "metadata": {
    "collapsed": false,
    "scrolled": false
   },
   "outputs": [
    {
     "name": "stdout",
     "output_type": "stream",
     "text": [
      "Step:  0\n",
      "chosen pixel:  2 , node sum:  6.0\n",
      "chosen pixel:  0 , node sum:  11.3333333333\n",
      "chosen pixel:  17 , node sum:  -5.33333333333\n"
     ]
    },
    {
     "data": {
      "image/png": "[encoded data removed]",
      "text/plain": [
       "<matplotlib.figure.Figure at 0x7fc289dd2850>"
      ]
     },
     "metadata": {},
     "output_type": "display_data"
    },
    {
     "name": "stdout",
     "output_type": "stream",
     "text": [
      "Step:  1\n",
      "chosen pixel:  4 , node sum:  -6.66666666667\n",
      "chosen pixel:  14 , node sum:  -11.3333333333\n",
      "chosen pixel:  18 , node sum:  2.66666666667\n"
     ]
    },
    {
     "data": {
      "image/png": "[encoded data removed]",
      "text/plain": [
       "<matplotlib.figure.Figure at 0x7fc289c5a5d0>"
      ]
     },
     "metadata": {},
     "output_type": "display_data"
    },
    {
     "name": "stdout",
     "output_type": "stream",
     "text": [
      "Step:  2\n",
      "chosen pixel:  12 , node sum:  4.66666666667\n",
      "chosen pixel:  3 , node sum:  2.0\n",
      "chosen pixel:  22 , node sum:  -0.666666666667\n"
     ]
    },
    {
     "data": {
      "image/png": "[encoded data removed]",
      "text/plain": [
       "<matplotlib.figure.Figure at 0x7fc289e8bd50>"
      ]
     },
     "metadata": {},
     "output_type": "display_data"
    },
    {
     "name": "stdout",
     "output_type": "stream",
     "text": [
      "Step:  3\n",
      "chosen pixel:  19 , node sum:  8.0\n",
      "chosen pixel:  2 , node sum:  2.0\n",
      "chosen pixel:  12 , node sum:  5.33333333333\n"
     ]
    },
    {
     "data": {
      "image/png": "[encoded data removed]",
      "text/plain": [
       "<matplotlib.figure.Figure at 0x7fc289ca9790>"
      ]
     },
     "metadata": {},
     "output_type": "display_data"
    },
    {
     "name": "stdout",
     "output_type": "stream",
     "text": [
      "Step:  4\n",
      "chosen pixel:  20 , node sum:  4.0\n",
      "chosen pixel:  18 , node sum:  -2.0\n",
      "chosen pixel:  15 , node sum:  -7.33333333333\n"
     ]
    },
    {
     "data": {
      "image/png": "[encoded data removed]",
      "text/plain": [
       "<matplotlib.figure.Figure at 0x7fc28d2cb3d0>"
      ]
     },
     "metadata": {},
     "output_type": "display_data"
    },
    {
     "name": "stdout",
     "output_type": "stream",
     "text": [
      "Step:  5\n",
      "chosen pixel:  1 , node sum:  7.33333333333\n",
      "chosen pixel:  24 , node sum:  9.33333333333\n",
      "chosen pixel:  2 , node sum:  -2.66666666667\n"
     ]
    },
    {
     "data": {
      "image/png": "[encoded data removed]",
      "text/plain": [
       "<matplotlib.figure.Figure at 0x7fc289692690>"
      ]
     },
     "metadata": {},
     "output_type": "display_data"
    },
    {
     "name": "stdout",
     "output_type": "stream",
     "text": [
      "Step:  6\n",
      "chosen pixel:  17 , node sum:  -4.0\n",
      "chosen pixel:  20 , node sum:  9.33333333333\n",
      "chosen pixel:  1 , node sum:  -2.66666666667\n"
     ]
    },
    {
     "data": {
      "image/png": "[encoded data removed]",
      "text/plain": [
       "<matplotlib.figure.Figure at 0x7fc289769cd0>"
      ]
     },
     "metadata": {},
     "output_type": "display_data"
    },
    {
     "name": "stdout",
     "output_type": "stream",
     "text": [
      "Step:  7\n",
      "chosen pixel:  6 , node sum:  -7.33333333333\n",
      "chosen pixel:  24 , node sum:  9.33333333333\n",
      "chosen pixel:  15 , node sum:  -7.33333333333\n"
     ]
    },
    {
     "data": {
      "image/png": "[encoded data removed]",
      "text/plain": [
       "<matplotlib.figure.Figure at 0x7fc289cde8d0>"
      ]
     },
     "metadata": {},
     "output_type": "display_data"
    },
    {
     "name": "stdout",
     "output_type": "stream",
     "text": [
      "Step:  8\n",
      "chosen pixel:  2 , node sum:  7.33333333333\n",
      "chosen pixel:  15 , node sum:  -11.3333333333\n",
      "chosen pixel:  12 , node sum:  5.33333333333\n"
     ]
    },
    {
     "data": {
      "image/png": "[encoded data removed]",
      "text/plain": [
       "<matplotlib.figure.Figure at 0x7fc2897e8690>"
      ]
     },
     "metadata": {},
     "output_type": "display_data"
    },
    {
     "name": "stdout",
     "output_type": "stream",
     "text": [
      "Step:  9\n",
      "chosen pixel:  5 , node sum:  8.0\n",
      "chosen pixel:  0 , node sum:  11.3333333333\n",
      "chosen pixel:  20 , node sum:  5.33333333333\n"
     ]
    },
    {
     "data": {
      "image/png": "[encoded data removed]",
      "text/plain": [
       "<matplotlib.figure.Figure at 0x7fc28974e590>"
      ]
     },
     "metadata": {},
     "output_type": "display_data"
    },
    {
     "name": "stdout",
     "output_type": "stream",
     "text": [
      "Step:  10\n",
      "chosen pixel:  17 , node sum:  -4.0\n",
      "chosen pixel:  11 , node sum:  -11.3333333333\n",
      "chosen pixel:  14 , node sum:  -9.33333333333\n"
     ]
    },
    {
     "data": {
      "image/png": "[encoded data removed]",
      "text/plain": [
       "<matplotlib.figure.Figure at 0x7fc289c9e590>"
      ]
     },
     "metadata": {},
     "output_type": "display_data"
    },
    {
     "name": "stdout",
     "output_type": "stream",
     "text": [
      "Step:  11\n",
      "chosen pixel:  3 , node sum:  7.33333333333\n",
      "chosen pixel:  18 , node sum:  -2.0\n",
      "chosen pixel:  16 , node sum:  9.33333333333\n"
     ]
    },
    {
     "data": {
      "image/png": "[encoded data removed]",
      "text/plain": [
       "<matplotlib.figure.Figure at 0x7fc2894b4890>"
      ]
     },
     "metadata": {},
     "output_type": "display_data"
    },
    {
     "name": "stdout",
     "output_type": "stream",
     "text": [
      "Step:  12\n",
      "chosen pixel:  4 , node sum:  -8.0\n",
      "chosen pixel:  23 , node sum:  4.0\n",
      "chosen pixel:  23 , node sum:  -2.0\n"
     ]
    },
    {
     "data": {
      "image/png": "[encoded data removed]",
      "text/plain": [
       "<matplotlib.figure.Figure at 0x7fc289f2a2d0>"
      ]
     },
     "metadata": {},
     "output_type": "display_data"
    },
    {
     "name": "stdout",
     "output_type": "stream",
     "text": [
      "Step:  13\n",
      "chosen pixel:  6 , node sum:  -7.33333333333\n",
      "chosen pixel:  4 , node sum:  11.3333333333\n",
      "chosen pixel:  4 , node sum:  8.66666666667\n"
     ]
    },
    {
     "data": {
      "image/png": "[encoded data removed]",
      "text/plain": [
       "<matplotlib.figure.Figure at 0x7fc289a8f350>"
      ]
     },
     "metadata": {},
     "output_type": "display_data"
    },
    {
     "name": "stdout",
     "output_type": "stream",
     "text": [
      "Step:  14\n",
      "chosen pixel:  18 , node sum:  -7.33333333333\n",
      "chosen pixel:  22 , node sum:  4.0\n",
      "chosen pixel:  23 , node sum:  -2.0\n"
     ]
    },
    {
     "data": {
      "image/png": "[encoded data removed]",
      "text/plain": [
       "<matplotlib.figure.Figure at 0x7fc289840f10>"
      ]
     },
     "metadata": {},
     "output_type": "display_data"
    },
    {
     "name": "stdout",
     "output_type": "stream",
     "text": [
      "Step:  15\n",
      "chosen pixel:  9 , node sum:  8.0\n",
      "chosen pixel:  11 , node sum:  -11.3333333333\n",
      "chosen pixel:  15 , node sum:  -8.66666666667\n"
     ]
    },
    {
     "data": {
      "image/png": "[encoded data removed]",
      "text/plain": [
       "<matplotlib.figure.Figure at 0x7fc2895e8c50>"
      ]
     },
     "metadata": {},
     "output_type": "display_data"
    },
    {
     "name": "stdout",
     "output_type": "stream",
     "text": [
      "Step:  16\n",
      "chosen pixel:  6 , node sum:  -7.33333333333\n",
      "chosen pixel:  13 , node sum:  -11.3333333333\n",
      "chosen pixel:  7 , node sum:  -6.66666666667\n"
     ]
    },
    {
     "data": {
      "image/png": "[encoded data removed]",
      "text/plain": [
       "<matplotlib.figure.Figure at 0x7fc289b5d590>"
      ]
     },
     "metadata": {},
     "output_type": "display_data"
    },
    {
     "name": "stdout",
     "output_type": "stream",
     "text": [
      "Step:  17\n",
      "chosen pixel:  21 , node sum:  -4.66666666667\n",
      "chosen pixel:  14 , node sum:  -11.3333333333\n",
      "chosen pixel:  20 , node sum:  6.66666666667\n"
     ]
    },
    {
     "data": {
      "image/png": "[encoded data removed]",
      "text/plain": [
       "<matplotlib.figure.Figure at 0x7fc289e7c590>"
      ]
     },
     "metadata": {},
     "output_type": "display_data"
    },
    {
     "name": "stdout",
     "output_type": "stream",
     "text": [
      "Step:  18\n",
      "chosen pixel:  1 , node sum:  7.33333333333\n",
      "chosen pixel:  24 , node sum:  9.33333333333\n",
      "chosen pixel:  24 , node sum:  6.66666666667\n"
     ]
    },
    {
     "data": {
      "image/png": "[encoded data removed]",
      "text/plain": [
       "<matplotlib.figure.Figure at 0x7fc289a3ba50>"
      ]
     },
     "metadata": {},
     "output_type": "display_data"
    },
    {
     "name": "stdout",
     "output_type": "stream",
     "text": [
      "Step:  19\n",
      "chosen pixel:  3 , node sum:  7.33333333333\n",
      "chosen pixel:  3 , node sum:  2.0\n",
      "chosen pixel:  15 , node sum:  -8.66666666667\n"
     ]
    },
    {
     "data": {
      "image/png": "[encoded data removed]",
      "text/plain": [
       "<matplotlib.figure.Figure at 0x7fc289d046d0>"
      ]
     },
     "metadata": {},
     "output_type": "display_data"
    },
    {
     "name": "stdout",
     "output_type": "stream",
     "text": [
      "Step:  20\n",
      "chosen pixel:  17 , node sum:  -4.0\n",
      "chosen pixel:  7 , node sum:  -9.33333333333\n",
      "chosen pixel:  13 , node sum:  -8.66666666667\n"
     ]
    },
    {
     "data": {
      "image/png": "[encoded data removed]",
      "text/plain": [
       "<matplotlib.figure.Figure at 0x7fc2899f8590>"
      ]
     },
     "metadata": {},
     "output_type": "display_data"
    },
    {
     "name": "stdout",
     "output_type": "stream",
     "text": [
      "Step:  21\n",
      "chosen pixel:  20 , node sum:  4.0\n",
      "chosen pixel:  21 , node sum:  6.0\n",
      "chosen pixel:  2 , node sum:  -4.0\n"
     ]
    },
    {
     "data": {
      "image/png": "[encoded data removed]",
      "text/plain": [
       "<matplotlib.figure.Figure at 0x7fc28967f710>"
      ]
     },
     "metadata": {},
     "output_type": "display_data"
    },
    {
     "name": "stdout",
     "output_type": "stream",
     "text": [
      "Step:  22\n",
      "chosen pixel:  14 , node sum:  8.0\n",
      "chosen pixel:  0 , node sum:  12.0\n",
      "chosen pixel:  20 , node sum:  6.66666666667\n"
     ]
    },
    {
     "data": {
      "image/png": "[encoded data removed]",
      "text/plain": [
       "<matplotlib.figure.Figure at 0x7fc289a609d0>"
      ]
     },
     "metadata": {},
     "output_type": "display_data"
    },
    {
     "name": "stdout",
     "output_type": "stream",
     "text": [
      "Step:  23\n",
      "chosen pixel:  3 , node sum:  7.33333333333\n",
      "chosen pixel:  19 , node sum:  -12.0\n",
      "chosen pixel:  17 , node sum:  -6.66666666667\n"
     ]
    },
    {
     "data": {
      "image/png": "[encoded data removed]",
      "text/plain": [
       "<matplotlib.figure.Figure at 0x7fc28968b690>"
      ]
     },
     "metadata": {},
     "output_type": "display_data"
    },
    {
     "name": "stdout",
     "output_type": "stream",
     "text": [
      "Step:  24\n",
      "chosen pixel:  17 , node sum:  -4.0\n",
      "chosen pixel:  11 , node sum:  -12.0\n",
      "chosen pixel:  2 , node sum:  -4.0\n"
     ]
    },
    {
     "data": {
      "image/png": "[encoded data removed]",
      "text/plain": [
       "<matplotlib.figure.Figure at 0x7fc28fd95b10>"
      ]
     },
     "metadata": {},
     "output_type": "display_data"
    },
    {
     "name": "stdout",
     "output_type": "stream",
     "text": [
      "Step:  25\n",
      "chosen pixel:  20 , node sum:  4.0\n",
      "chosen pixel:  20 , node sum:  8.66666666667\n",
      "chosen pixel:  24 , node sum:  6.66666666667\n"
     ]
    },
    {
     "data": {
      "image/png": "[encoded data removed]",
      "text/plain": [
       "<matplotlib.figure.Figure at 0x7fc289909e50>"
      ]
     },
     "metadata": {},
     "output_type": "display_data"
    },
    {
     "name": "stdout",
     "output_type": "stream",
     "text": [
      "Step:  26\n",
      "chosen pixel:  16 , node sum:  -10.0\n",
      "chosen pixel:  10 , node sum:  -12.0\n",
      "chosen pixel:  8 , node sum:  10.6666666667\n"
     ]
    },
    {
     "data": {
      "image/png": "[encoded data removed]",
      "text/plain": [
       "<matplotlib.figure.Figure at 0x7fc2896b0950>"
      ]
     },
     "metadata": {},
     "output_type": "display_data"
    },
    {
     "name": "stdout",
     "output_type": "stream",
     "text": [
      "Step:  27\n",
      "chosen pixel:  15 , node sum:  10.0\n",
      "chosen pixel:  11 , node sum:  -12.0\n",
      "chosen pixel:  0 , node sum:  10.6666666667\n"
     ]
    },
    {
     "data": {
      "image/png": "[encoded data removed]",
      "text/plain": [
       "<matplotlib.figure.Figure at 0x7fc289961590>"
      ]
     },
     "metadata": {},
     "output_type": "display_data"
    },
    {
     "name": "stdout",
     "output_type": "stream",
     "text": [
      "Step:  28\n",
      "chosen pixel:  4 , node sum:  -10.0\n",
      "chosen pixel:  7 , node sum:  -8.66666666667\n",
      "chosen pixel:  4 , node sum:  10.6666666667\n"
     ]
    },
    {
     "data": {
      "image/png": "[encoded data removed]",
      "text/plain": [
       "<matplotlib.figure.Figure at 0x7fc2896fc1d0>"
      ]
     },
     "metadata": {},
     "output_type": "display_data"
    },
    {
     "name": "stdout",
     "output_type": "stream",
     "text": [
      "Step:  29\n",
      "chosen pixel:  22 , node sum:  -5.33333333333\n",
      "chosen pixel:  12 , node sum:  8.66666666667\n",
      "chosen pixel:  4 , node sum:  10.6666666667\n"
     ]
    },
    {
     "data": {
      "image/png": "[encoded data removed]",
      "text/plain": [
       "<matplotlib.figure.Figure at 0x7fc2a80fd450>"
      ]
     },
     "metadata": {},
     "output_type": "display_data"
    },
    {
     "name": "stdout",
     "output_type": "stream",
     "text": [
      "Step:  30\n",
      "chosen pixel:  0 , node sum:  -12.0\n",
      "chosen pixel:  16 , node sum:  12.0\n",
      "chosen pixel:  0 , node sum:  10.6666666667\n"
     ]
    },
    {
     "data": {
      "image/png": "[encoded data removed]",
      "text/plain": [
       "<matplotlib.figure.Figure at 0x7fc2898836d0>"
      ]
     },
     "metadata": {},
     "output_type": "display_data"
    },
    {
     "name": "stdout",
     "output_type": "stream",
     "text": [
      "Step:  31\n",
      "chosen pixel:  2 , node sum:  8.66666666667\n",
      "chosen pixel:  4 , node sum:  12.0\n",
      "chosen pixel:  9 , node sum:  -10.6666666667\n"
     ]
    },
    {
     "data": {
      "image/png": "[encoded data removed]",
      "text/plain": [
       "<matplotlib.figure.Figure at 0x7fc289a83590>"
      ]
     },
     "metadata": {},
     "output_type": "display_data"
    },
    {
     "name": "stdout",
     "output_type": "stream",
     "text": [
      "Step:  32\n",
      "chosen pixel:  5 , node sum:  12.0\n",
      "chosen pixel:  6 , node sum:  -2.66666666667\n",
      "chosen pixel:  3 , node sum:  -6.66666666667\n"
     ]
    },
    {
     "data": {
      "image/png": "[encoded data removed]",
      "text/plain": [
       "<matplotlib.figure.Figure at 0x7fc289bbd590>"
      ]
     },
     "metadata": {},
     "output_type": "display_data"
    },
    {
     "name": "stdout",
     "output_type": "stream",
     "text": [
      "Step:  33\n",
      "chosen pixel:  17 , node sum:  -2.66666666667\n",
      "chosen pixel:  6 , node sum:  -2.66666666667\n",
      "chosen pixel:  1 , node sum:  -6.66666666667\n"
     ]
    },
    {
     "data": {
      "image/png": "[encoded data removed]",
      "text/plain": [
       "<matplotlib.figure.Figure at 0x7fc28958af50>"
      ]
     },
     "metadata": {},
     "output_type": "display_data"
    },
    {
     "name": "stdout",
     "output_type": "stream",
     "text": [
      "Step:  34\n",
      "chosen pixel:  14 , node sum:  12.0\n",
      "chosen pixel:  11 , node sum:  -12.0\n",
      "chosen pixel:  6 , node sum:  6.66666666667\n"
     ]
    },
    {
     "data": {
      "image/png": "[encoded data removed]",
      "text/plain": [
       "<matplotlib.figure.Figure at 0x7fc289f46210>"
      ]
     },
     "metadata": {},
     "output_type": "display_data"
    },
    {
     "name": "stdout",
     "output_type": "stream",
     "text": [
      "Step:  35\n",
      "chosen pixel:  14 , node sum:  12.0\n",
      "chosen pixel:  16 , node sum:  12.0\n",
      "chosen pixel:  6 , node sum:  6.66666666667\n"
     ]
    },
    {
     "data": {
      "image/png": "[encoded data removed]",
      "text/plain": [
       "<matplotlib.figure.Figure at 0x7fc289f1f350>"
      ]
     },
     "metadata": {},
     "output_type": "display_data"
    },
    {
     "name": "stdout",
     "output_type": "stream",
     "text": [
      "Step:  36\n",
      "chosen pixel:  18 , node sum:  -8.66666666667\n",
      "chosen pixel:  23 , node sum:  6.0\n",
      "chosen pixel:  17 , node sum:  -6.66666666667\n"
     ]
    },
    {
     "data": {
      "image/png": "[encoded data removed]",
      "text/plain": [
       "<matplotlib.figure.Figure at 0x7fc289a63850>"
      ]
     },
     "metadata": {},
     "output_type": "display_data"
    },
    {
     "name": "stdout",
     "output_type": "stream",
     "text": [
      "Step:  37\n",
      "chosen pixel:  10 , node sum:  12.0\n",
      "chosen pixel:  6 , node sum:  -2.66666666667\n",
      "chosen pixel:  16 , node sum:  11.3333333333\n"
     ]
    },
    {
     "data": {
      "image/png": "[encoded data removed]",
      "text/plain": [
       "<matplotlib.figure.Figure at 0x7fc289492950>"
      ]
     },
     "metadata": {},
     "output_type": "display_data"
    },
    {
     "name": "stdout",
     "output_type": "stream",
     "text": [
      "Step:  38\n",
      "chosen pixel:  7 , node sum:  -2.66666666667\n",
      "chosen pixel:  3 , node sum:  2.66666666667\n",
      "chosen pixel:  24 , node sum:  6.66666666667\n"
     ]
    },
    {
     "data": {
      "image/png": "[encoded data removed]",
      "text/plain": [
       "<matplotlib.figure.Figure at 0x7fc2894fb0d0>"
      ]
     },
     "metadata": {},
     "output_type": "display_data"
    },
    {
     "name": "stdout",
     "output_type": "stream",
     "text": [
      "Step:  39\n",
      "chosen pixel:  5 , node sum:  12.0\n",
      "chosen pixel:  4 , node sum:  12.0\n",
      "chosen pixel:  15 , node sum:  -11.3333333333\n"
     ]
    },
    {
     "data": {
      "image/png": "[encoded data removed]",
      "text/plain": [
       "<matplotlib.figure.Figure at 0x7fc2894fb890>"
      ]
     },
     "metadata": {},
     "output_type": "display_data"
    },
    {
     "name": "stdout",
     "output_type": "stream",
     "text": [
      "Step:  40\n",
      "chosen pixel:  7 , node sum:  -2.66666666667\n",
      "chosen pixel:  23 , node sum:  6.0\n",
      "chosen pixel:  3 , node sum:  -6.66666666667\n"
     ]
    },
    {
     "data": {
      "image/png": "[encoded data removed]",
      "text/plain": [
       "<matplotlib.figure.Figure at 0x7fc28d572d90>"
      ]
     },
     "metadata": {},
     "output_type": "display_data"
    },
    {
     "name": "stdout",
     "output_type": "stream",
     "text": [
      "Step:  41\n",
      "chosen pixel:  0 , node sum:  -12.0\n",
      "chosen pixel:  1 , node sum:  2.66666666667\n",
      "chosen pixel:  4 , node sum:  11.3333333333\n"
     ]
    },
    {
     "data": {
      "image/png": "[encoded data removed]",
      "text/plain": [
       "<matplotlib.figure.Figure at 0x7fc2897cf810>"
      ]
     },
     "metadata": {},
     "output_type": "display_data"
    },
    {
     "name": "stdout",
     "output_type": "stream",
     "text": [
      "Step:  42\n",
      "chosen pixel:  11 , node sum:  12.0\n",
      "chosen pixel:  5 , node sum:  -12.0\n",
      "chosen pixel:  2 , node sum:  -6.66666666667\n"
     ]
    },
    {
     "data": {
      "image/png": "[encoded data removed]",
      "text/plain": [
       "<matplotlib.figure.Figure at 0x7fc289b42810>"
      ]
     },
     "metadata": {},
     "output_type": "display_data"
    },
    {
     "name": "stdout",
     "output_type": "stream",
     "text": [
      "Step:  43\n",
      "chosen pixel:  13 , node sum:  12.0\n",
      "chosen pixel:  7 , node sum:  -8.66666666667\n",
      "chosen pixel:  19 , node sum:  -13.3333333333\n"
     ]
    },
    {
     "data": {
      "image/png": "[encoded data removed]",
      "text/plain": [
       "<matplotlib.figure.Figure at 0x7fc289aeb590>"
      ]
     },
     "metadata": {},
     "output_type": "display_data"
    },
    {
     "name": "stdout",
     "output_type": "stream",
     "text": [
      "Step:  44\n",
      "chosen pixel:  5 , node sum:  12.0\n",
      "chosen pixel:  11 , node sum:  -12.0\n",
      "chosen pixel:  22 , node sum:  -1.33333333333\n"
     ]
    },
    {
     "data": {
      "image/png": "[encoded data removed]",
      "text/plain": [
       "<matplotlib.figure.Figure at 0x7fc289913850>"
      ]
     },
     "metadata": {},
     "output_type": "display_data"
    },
    {
     "name": "stdout",
     "output_type": "stream",
     "text": [
      "Step:  45\n",
      "chosen pixel:  7 , node sum:  -2.66666666667\n",
      "chosen pixel:  20 , node sum:  8.66666666667\n",
      "chosen pixel:  0 , node sum:  13.3333333333\n"
     ]
    },
    {
     "data": {
      "image/png": "[encoded data removed]",
      "text/plain": [
       "<matplotlib.figure.Figure at 0x7fc289b09fd0>"
      ]
     },
     "metadata": {},
     "output_type": "display_data"
    },
    {
     "name": "stdout",
     "output_type": "stream",
     "text": [
      "Step:  46\n",
      "chosen pixel:  18 , node sum:  -8.66666666667\n",
      "chosen pixel:  10 , node sum:  -12.0\n",
      "chosen pixel:  19 , node sum:  -13.3333333333\n"
     ]
    },
    {
     "data": {
      "image/png": "[encoded data removed]",
      "text/plain": [
       "<matplotlib.figure.Figure at 0x7fc289e605d0>"
      ]
     },
     "metadata": {},
     "output_type": "display_data"
    },
    {
     "name": "stdout",
     "output_type": "stream",
     "text": [
      "Step:  47\n",
      "chosen pixel:  15 , node sum:  12.0\n",
      "chosen pixel:  3 , node sum:  2.66666666667\n",
      "chosen pixel:  5 , node sum:  -13.3333333333\n"
     ]
    },
    {
     "data": {
      "image/png": "[encoded data removed]",
      "text/plain": [
       "<matplotlib.figure.Figure at 0x7fc289af7e50>"
      ]
     },
     "metadata": {},
     "output_type": "display_data"
    },
    {
     "name": "stdout",
     "output_type": "stream",
     "text": [
      "Step:  48\n",
      "chosen pixel:  23 , node sum:  -6.0\n",
      "chosen pixel:  24 , node sum:  8.66666666667\n",
      "chosen pixel:  20 , node sum:  7.33333333333\n"
     ]
    },
    {
     "data": {
      "image/png": "[encoded data removed]",
      "text/plain": [
       "<matplotlib.figure.Figure at 0x7fc289aa8c50>"
      ]
     },
     "metadata": {},
     "output_type": "display_data"
    },
    {
     "name": "stdout",
     "output_type": "stream",
     "text": [
      "Step:  49\n",
      "chosen pixel:  5 , node sum:  12.0\n",
      "chosen pixel:  23 , node sum:  6.0\n",
      "chosen pixel:  10 , node sum:  -13.3333333333\n"
     ]
    },
    {
     "data": {
      "image/png": "[encoded data removed]",
      "text/plain": [
       "<matplotlib.figure.Figure at 0x7fc289619ad0>"
      ]
     },
     "metadata": {},
     "output_type": "display_data"
    },
    {
     "name": "stdout",
     "output_type": "stream",
     "text": [
      "Step:  50\n",
      "chosen pixel:  4 , node sum:  -12.0\n",
      "chosen pixel:  24 , node sum:  8.66666666667\n",
      "chosen pixel:  0 , node sum:  13.3333333333\n"
     ]
    },
    {
     "data": {
      "image/png": "[encoded data removed]",
      "text/plain": [
       "<matplotlib.figure.Figure at 0x7fc2894f8850>"
      ]
     },
     "metadata": {},
     "output_type": "display_data"
    },
    {
     "name": "stdout",
     "output_type": "stream",
     "text": [
      "Step:  51\n",
      "chosen pixel:  8 , node sum:  -12.0\n",
      "chosen pixel:  24 , node sum:  8.66666666667\n",
      "chosen pixel:  12 , node sum:  7.33333333333\n"
     ]
    },
    {
     "data": {
      "image/png": "[encoded data removed]",
      "text/plain": [
       "<matplotlib.figure.Figure at 0x7fc28f7010d0>"
      ]
     },
     "metadata": {},
     "output_type": "display_data"
    },
    {
     "name": "stdout",
     "output_type": "stream",
     "text": [
      "Step:  52\n",
      "chosen pixel:  7 , node sum:  -2.66666666667\n",
      "chosen pixel:  16 , node sum:  12.0\n",
      "chosen pixel:  14 , node sum:  -13.3333333333\n"
     ]
    },
    {
     "data": {
      "image/png": "[encoded data removed]",
      "text/plain": [
       "<matplotlib.figure.Figure at 0x7fc2898cb750>"
      ]
     },
     "metadata": {},
     "output_type": "display_data"
    },
    {
     "name": "stdout",
     "output_type": "stream",
     "text": [
      "Step:  53\n",
      "chosen pixel:  23 , node sum:  -6.0\n",
      "chosen pixel:  5 , node sum:  -12.0\n",
      "chosen pixel:  17 , node sum:  -7.33333333333\n"
     ]
    },
    {
     "data": {
      "image/png": "[encoded data removed]",
      "text/plain": [
       "<matplotlib.figure.Figure at 0x7fc28965f810>"
      ]
     },
     "metadata": {},
     "output_type": "display_data"
    },
    {
     "name": "stdout",
     "output_type": "stream",
     "text": [
      "Step:  54\n",
      "chosen pixel:  12 , node sum:  2.66666666667\n",
      "chosen pixel:  9 , node sum:  -12.0\n",
      "chosen pixel:  13 , node sum:  -13.3333333333\n"
     ]
    },
    {
     "data": {
      "image/png": "[encoded data removed]",
      "text/plain": [
       "<matplotlib.figure.Figure at 0x7fc289c6bc50>"
      ]
     },
     "metadata": {},
     "output_type": "display_data"
    },
    {
     "name": "stdout",
     "output_type": "stream",
     "text": [
      "Step:  55\n",
      "chosen pixel:  24 , node sum:  2.66666666667\n",
      "chosen pixel:  15 , node sum:  -12.0\n",
      "chosen pixel:  13 , node sum:  -13.3333333333\n"
     ]
    },
    {
     "data": {
      "image/png": "[encoded data removed]",
      "text/plain": [
       "<matplotlib.figure.Figure at 0x7fc289976f90>"
      ]
     },
     "metadata": {},
     "output_type": "display_data"
    },
    {
     "name": "stdout",
     "output_type": "stream",
     "text": [
      "Step:  56\n",
      "chosen pixel:  14 , node sum:  12.0\n",
      "chosen pixel:  8 , node sum:  12.0\n",
      "chosen pixel:  2 , node sum:  -7.33333333333\n"
     ]
    },
    {
     "data": {
      "image/png": "[encoded data removed]",
      "text/plain": [
       "<matplotlib.figure.Figure at 0x7fc289b2c9d0>"
      ]
     },
     "metadata": {},
     "output_type": "display_data"
    },
    {
     "name": "stdout",
     "output_type": "stream",
     "text": [
      "Step:  57\n",
      "chosen pixel:  16 , node sum:  -12.0\n",
      "chosen pixel:  0 , node sum:  12.0\n",
      "chosen pixel:  6 , node sum:  7.33333333333\n"
     ]
    },
    {
     "data": {
      "image/png": "[encoded data removed]",
      "text/plain": [
       "<matplotlib.figure.Figure at 0x7fc289f6d350>"
      ]
     },
     "metadata": {},
     "output_type": "display_data"
    },
    {
     "name": "stdout",
     "output_type": "stream",
     "text": [
      "Step:  58\n",
      "chosen pixel:  19 , node sum:  12.0\n",
      "chosen pixel:  13 , node sum:  -12.0\n",
      "chosen pixel:  12 , node sum:  7.33333333333\n"
     ]
    },
    {
     "data": {
      "image/png": "[encoded data removed]",
      "text/plain": [
       "<matplotlib.figure.Figure at 0x7fc289c6be50>"
      ]
     },
     "metadata": {},
     "output_type": "display_data"
    },
    {
     "name": "stdout",
     "output_type": "stream",
     "text": [
      "Step:  59\n",
      "chosen pixel:  17 , node sum:  -2.66666666667\n",
      "chosen pixel:  22 , node sum:  6.0\n",
      "chosen pixel:  20 , node sum:  7.33333333333\n"
     ]
    },
    {
     "data": {
      "image/png": "[encoded data removed]",
      "text/plain": [
       "<matplotlib.figure.Figure at 0x7fc289b4dcd0>"
      ]
     },
     "metadata": {},
     "output_type": "display_data"
    },
    {
     "name": "stdout",
     "output_type": "stream",
     "text": [
      "Step:  60\n",
      "chosen pixel:  13 , node sum:  12.0\n",
      "chosen pixel:  14 , node sum:  -12.0\n",
      "chosen pixel:  3 , node sum:  -7.33333333333\n"
     ]
    },
    {
     "data": {
      "image/png": "[encoded data removed]",
      "text/plain": [
       "<matplotlib.figure.Figure at 0x7fc289b78f10>"
      ]
     },
     "metadata": {},
     "output_type": "display_data"
    },
    {
     "name": "stdout",
     "output_type": "stream",
     "text": [
      "Step:  61\n",
      "chosen pixel:  20 , node sum:  2.66666666667\n",
      "chosen pixel:  18 , node sum:  -2.66666666667\n",
      "chosen pixel:  17 , node sum:  -7.33333333333\n"
     ]
    },
    {
     "data": {
      "image/png": "[encoded data removed]",
      "text/plain": [
       "<matplotlib.figure.Figure at 0x7fc289b7cf50>"
      ]
     },
     "metadata": {},
     "output_type": "display_data"
    },
    {
     "name": "stdout",
     "output_type": "stream",
     "text": [
      "Step:  62\n",
      "chosen pixel:  23 , node sum:  -6.0\n",
      "chosen pixel:  7 , node sum:  -8.66666666667\n",
      "chosen pixel:  13 , node sum:  -13.3333333333\n"
     ]
    },
    {
     "data": {
      "image/png": "[encoded data removed]",
      "text/plain": [
       "<matplotlib.figure.Figure at 0x7fc28fa22310>"
      ]
     },
     "metadata": {},
     "output_type": "display_data"
    },
    {
     "name": "stdout",
     "output_type": "stream",
     "text": [
      "Step:  63\n",
      "chosen pixel:  12 , node sum:  2.66666666667\n",
      "chosen pixel:  19 , node sum:  -12.0\n",
      "chosen pixel:  15 , node sum:  -13.3333333333\n"
     ]
    },
    {
     "data": {
      "image/png": "[encoded data removed]",
      "text/plain": [
       "<matplotlib.figure.Figure at 0x7fc2896b85d0>"
      ]
     },
     "metadata": {},
     "output_type": "display_data"
    },
    {
     "name": "stdout",
     "output_type": "stream",
     "text": [
      "Step:  64\n",
      "chosen pixel:  4 , node sum:  -12.0\n",
      "chosen pixel:  12 , node sum:  8.66666666667\n",
      "chosen pixel:  9 , node sum:  -13.3333333333\n"
     ]
    },
    {
     "data": {
      "image/png": "[encoded data removed]",
      "text/plain": [
       "<matplotlib.figure.Figure at 0x7fc289eab590>"
      ]
     },
     "metadata": {},
     "output_type": "display_data"
    },
    {
     "name": "stdout",
     "output_type": "stream",
     "text": [
      "Step:  65\n",
      "chosen pixel:  18 , node sum:  -8.66666666667\n",
      "chosen pixel:  14 , node sum:  -12.0\n",
      "chosen pixel:  15 , node sum:  -13.3333333333\n"
     ]
    },
    {
     "data": {
      "image/png": "[encoded data removed]",
      "text/plain": [
       "<matplotlib.figure.Figure at 0x7fc289af9590>"
      ]
     },
     "metadata": {},
     "output_type": "display_data"
    },
    {
     "name": "stdout",
     "output_type": "stream",
     "text": [
      "Step:  66\n",
      "chosen pixel:  21 , node sum:  -6.0\n",
      "chosen pixel:  8 , node sum:  12.0\n",
      "chosen pixel:  23 , node sum:  -1.33333333333\n"
     ]
    },
    {
     "data": {
      "image/png": "[encoded data removed]",
      "text/plain": [
       "<matplotlib.figure.Figure at 0x7fc289d31f10>"
      ]
     },
     "metadata": {},
     "output_type": "display_data"
    },
    {
     "name": "stdout",
     "output_type": "stream",
     "text": [
      "Step:  67\n",
      "chosen pixel:  1 , node sum:  8.66666666667\n",
      "chosen pixel:  14 , node sum:  -12.0\n",
      "chosen pixel:  14 , node sum:  -13.3333333333\n"
     ]
    },
    {
     "data": {
      "image/png": "[encoded data removed]",
      "text/plain": [
       "<matplotlib.figure.Figure at 0x7fc289a3e210>"
      ]
     },
     "metadata": {},
     "output_type": "display_data"
    },
    {
     "name": "stdout",
     "output_type": "stream",
     "text": [
      "Step:  68\n",
      "chosen pixel:  15 , node sum:  12.0\n",
      "chosen pixel:  14 , node sum:  -12.0\n",
      "chosen pixel:  22 , node sum:  -1.33333333333\n"
     ]
    },
    {
     "data": {
      "image/png": "[encoded data removed]",
      "text/plain": [
       "<matplotlib.figure.Figure at 0x7fc289dd2e90>"
      ]
     },
     "metadata": {},
     "output_type": "display_data"
    },
    {
     "name": "stdout",
     "output_type": "stream",
     "text": [
      "Step:  69\n",
      "chosen pixel:  4 , node sum:  -12.0\n",
      "chosen pixel:  6 , node sum:  -2.66666666667\n",
      "chosen pixel:  2 , node sum:  -7.33333333333\n"
     ]
    },
    {
     "data": {
      "image/png": "[encoded data removed]",
      "text/plain": [
       "<matplotlib.figure.Figure at 0x7fc289af7e10>"
      ]
     },
     "metadata": {},
     "output_type": "display_data"
    },
    {
     "name": "stdout",
     "output_type": "stream",
     "text": [
      "Step:  70\n",
      "chosen pixel:  12 , node sum:  2.66666666667\n",
      "chosen pixel:  12 , node sum:  8.66666666667\n",
      "chosen pixel:  17 , node sum:  -7.33333333333\n"
     ]
    },
    {
     "data": {
      "image/png": "[encoded data removed]",
      "text/plain": [
       "<matplotlib.figure.Figure at 0x7fc289531950>"
      ]
     },
     "metadata": {},
     "output_type": "display_data"
    },
    {
     "name": "stdout",
     "output_type": "stream",
     "text": [
      "Step:  71\n",
      "chosen pixel:  9 , node sum:  12.0\n",
      "chosen pixel:  20 , node sum:  8.66666666667\n",
      "chosen pixel:  15 , node sum:  -13.3333333333\n"
     ]
    },
    {
     "data": {
      "image/png": "[encoded data removed]",
      "text/plain": [
       "<matplotlib.figure.Figure at 0x7fc2896ea590>"
      ]
     },
     "metadata": {},
     "output_type": "display_data"
    },
    {
     "name": "stdout",
     "output_type": "stream",
     "text": [
      "Step:  72\n",
      "chosen pixel:  7 , node sum:  -2.66666666667\n",
      "chosen pixel:  12 , node sum:  8.66666666667\n",
      "chosen pixel:  24 , node sum:  7.33333333333\n"
     ]
    },
    {
     "data": {
      "image/png": "[encoded data removed]",
      "text/plain": [
       "<matplotlib.figure.Figure at 0x7fc289ab2f10>"
      ]
     },
     "metadata": {},
     "output_type": "display_data"
    },
    {
     "name": "stdout",
     "output_type": "stream",
     "text": [
      "Step:  73\n",
      "chosen pixel:  19 , node sum:  12.0\n",
      "chosen pixel:  1 , node sum:  2.66666666667\n",
      "chosen pixel:  24 , node sum:  7.33333333333\n"
     ]
    },
    {
     "data": {
      "image/png": "[encoded data removed]",
      "text/plain": [
       "<matplotlib.figure.Figure at 0x7fc289e60210>"
      ]
     },
     "metadata": {},
     "output_type": "display_data"
    },
    {
     "name": "stdout",
     "output_type": "stream",
     "text": [
      "Step:  74\n",
      "chosen pixel:  13 , node sum:  12.0\n",
      "chosen pixel:  12 , node sum:  8.66666666667\n",
      "chosen pixel:  6 , node sum:  7.33333333333\n"
     ]
    },
    {
     "data": {
      "image/png": "[encoded data removed]",
      "text/plain": [
       "<matplotlib.figure.Figure at 0x7fc289485750>"
      ]
     },
     "metadata": {},
     "output_type": "display_data"
    },
    {
     "name": "stdout",
     "output_type": "stream",
     "text": [
      "Step:  75\n",
      "chosen pixel:  20 , node sum:  2.66666666667\n",
      "chosen pixel:  5 , node sum:  -12.0\n",
      "chosen pixel:  18 , node sum:  7.33333333333\n"
     ]
    },
    {
     "data": {
      "image/png": "[encoded data removed]",
      "text/plain": [
       "<matplotlib.figure.Figure at 0x7fc289585450>"
      ]
     },
     "metadata": {},
     "output_type": "display_data"
    },
    {
     "name": "stdout",
     "output_type": "stream",
     "text": [
      "Step:  76\n",
      "chosen pixel:  3 , node sum:  8.66666666667\n",
      "chosen pixel:  11 , node sum:  -12.0\n",
      "chosen pixel:  1 , node sum:  -7.33333333333\n"
     ]
    },
    {
     "data": {
      "image/png": "[encoded data removed]",
      "text/plain": [
       "<matplotlib.figure.Figure at 0x7fc289835590>"
      ]
     },
     "metadata": {},
     "output_type": "display_data"
    },
    {
     "name": "stdout",
     "output_type": "stream",
     "text": [
      "Step:  77\n",
      "chosen pixel:  18 , node sum:  -8.66666666667\n",
      "chosen pixel:  18 , node sum:  -2.66666666667\n",
      "chosen pixel:  19 , node sum:  -13.3333333333\n"
     ]
    },
    {
     "data": {
      "image/png": "[encoded data removed]",
      "text/plain": [
       "<matplotlib.figure.Figure at 0x7fc289b5d150>"
      ]
     },
     "metadata": {},
     "output_type": "display_data"
    },
    {
     "name": "stdout",
     "output_type": "stream",
     "text": [
      "Step:  78\n",
      "chosen pixel:  14 , node sum:  12.0\n",
      "chosen pixel:  24 , node sum:  8.66666666667\n",
      "chosen pixel:  11 , node sum:  -13.3333333333\n"
     ]
    },
    {
     "data": {
      "image/png": "[encoded data removed]",
      "text/plain": [
       "<matplotlib.figure.Figure at 0x7fc2898f95d0>"
      ]
     },
     "metadata": {},
     "output_type": "display_data"
    },
    {
     "name": "stdout",
     "output_type": "stream",
     "text": [
      "Step:  79\n",
      "chosen pixel:  19 , node sum:  12.0\n",
      "chosen pixel:  24 , node sum:  8.66666666667\n",
      "chosen pixel:  13 , node sum:  -13.3333333333\n"
     ]
    },
    {
     "data": {
      "image/png": "[encoded data removed]",
      "text/plain": [
       "<matplotlib.figure.Figure at 0x7fc289d01ed0>"
      ]
     },
     "metadata": {},
     "output_type": "display_data"
    }
   ],
   "source": [
    "rec_patterns=recall(w,dist_patterns)"
   ]
  },
  {
   "cell_type": "code",
   "execution_count": null,
   "metadata": {
    "collapsed": true
   },
   "outputs": [],
   "source": []
  },
  {
   "cell_type": "code",
   "execution_count": null,
   "metadata": {
    "collapsed": true
   },
   "outputs": [],
   "source": []
  }
 ],
 "metadata": {
  "kernelspec": {
   "display_name": "Python 2",
   "language": "python",
   "name": "python2"
  },
  "language_info": {
   "codemirror_mode": {
    "name": "ipython",
    "version": 2
   },
   "file_extension": ".py",
   "mimetype": "text/x-python",
   "name": "python",
   "nbconvert_exporter": "python",
   "pygments_lexer": "ipython2",
   "version": "2.7.13"
  }
 },
 "nbformat": 4,
 "nbformat_minor": 2
}
