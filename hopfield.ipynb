{
 "cells": [
  {
   "cell_type": "markdown",
   "metadata": {},
   "source": [
    "## Demontration of Hopfield Networks for information retrieval of distorted images\n",
    "partly adapted from http://codeaffectionate.blogspot.co.at/2013/05/fun-with-hopfield-and-numpy.html which shows a different version"
   ]
  },
  {
   "cell_type": "code",
   "execution_count": 1,
   "metadata": {
    "collapsed": false
   },
   "outputs": [],
   "source": [
    "import numpy as np\n",
    "A = \"\"\"\n",
    ".XXX.\n",
    "X...X\n",
    "XXXXX\n",
    "X...X\n",
    "X...X\n",
    "\"\"\"\n",
    " \n",
    "Z = \"\"\"\n",
    "XXXXX\n",
    "...X.\n",
    "..X..\n",
    ".X...\n",
    "XXXXX\n",
    "\"\"\"\n",
    "\n",
    "\n",
    "X = \"\"\"\n",
    "X...X\n",
    ".X.X.\n",
    "..X..\n",
    ".X.X.\n",
    "X...X\n",
    "\"\"\""
   ]
  },
  {
   "cell_type": "markdown",
   "metadata": {},
   "source": [
    "Load .xls file into a Pandas data frame"
   ]
  },
  {
   "cell_type": "code",
   "execution_count": 2,
   "metadata": {
    "collapsed": false
   },
   "outputs": [],
   "source": [
    "def to_pattern(letter):\n",
    "    return np.array([+1 if c=='X' else -1 for c in letter.replace('\\n','')])"
   ]
  },
  {
   "cell_type": "code",
   "execution_count": 3,
   "metadata": {
    "collapsed": false
   },
   "outputs": [],
   "source": [
    "import pylab as plt\n",
    "import numpy as np\n",
    "def display(patterns):\n",
    "    from pylab import imshow, cm, show\n",
    "    plt.subplot(1, 3, 1)\n",
    "    p0=imshow(patterns[0].reshape((5,5)),cmap=cm.binary, interpolation='nearest')\n",
    "    plt.subplot(1, 3, 2)\n",
    "    p1=imshow(patterns[1].reshape((5,5)),cmap=cm.binary, interpolation='nearest')\n",
    "    plt.subplot(1, 3, 3)\n",
    "    p2=imshow(patterns[2].reshape((5,5)),cmap=cm.binary, interpolation='nearest')\n",
    "    plt.show()\n",
    "    "
   ]
  },
  {
   "cell_type": "code",
   "execution_count": 4,
   "metadata": {
    "collapsed": false
   },
   "outputs": [
    {
     "data": {
      "image/png": "[encoded data removed]",
      "text/plain": [
       "<matplotlib.figure.Figure at 0x7f85a80b5590>"
      ]
     },
     "metadata": {},
     "output_type": "display_data"
    }
   ],
   "source": [
    "patterns = np.array([to_pattern(A), to_pattern(Z), to_pattern(X)])\n",
    "display(patterns)\n",
    "#print patterns"
   ]
  },
  {
   "cell_type": "code",
   "execution_count": 5,
   "metadata": {
    "collapsed": false
   },
   "outputs": [],
   "source": [
    "def train(patterns):\n",
    "    from numpy import zeros, outer, diag_indices \n",
    "    r,c = patterns.shape\n",
    "    W = zeros((c,c))\n",
    "    for p in patterns:\n",
    "        W = W + outer(p,p)\n",
    "    W[diag_indices(c)] = 0\n",
    "    return W/r"
   ]
  },
  {
   "cell_type": "markdown",
   "metadata": {},
   "source": [
    "Training = set weights"
   ]
  },
  {
   "cell_type": "code",
   "execution_count": 6,
   "metadata": {
    "collapsed": false
   },
   "outputs": [],
   "source": [
    "w=train(patterns)\n",
    "#print w"
   ]
  },
  {
   "cell_type": "code",
   "execution_count": 7,
   "metadata": {
    "collapsed": false
   },
   "outputs": [],
   "source": [
    "def recall(W, patterns, steps=80):\n",
    "    from numpy import vectorize, dot\n",
    "    sgn = vectorize(lambda x: -1 if x<0 else +1)\n",
    "    for step in xrange(steps):        \n",
    "       # patterns = sgn(dot(patterns,W))\n",
    "        print \"Step: \",step \n",
    "        for p in patterns:\n",
    "            rnd=np.random.randint(25)\n",
    "            print \"rnd:\",rnd\n",
    "            s=dot(p,w[rnd])\n",
    "            print s\n",
    "            if s>0:\n",
    "                p[rnd]=1\n",
    "            else:\n",
    "                p[rnd]=-1\n",
    "                    \n",
    "          \n",
    "        display(patterns)\n",
    "    return patterns"
   ]
  },
  {
   "cell_type": "code",
   "execution_count": 8,
   "metadata": {
    "collapsed": false
   },
   "outputs": [
    {
     "name": "stdout",
     "output_type": "stream",
     "text": [
      "[1 0 0 0 0 0 0 0 0 0 0 0 0 0 0 0 0 1 0 0 0 0 0 0 0]\n",
      "[0 1 0 0 1 0 0 0 0 0 0 0 0 0 0 1 0 0 0 0 0 0 0 0 0]\n",
      "[0 0 0 0 0 0 0 0 0 0 0 0 0 0 0 0 0 0 0 1 0 0 0 0 0]\n"
     ]
    }
   ],
   "source": [
    "pr=0.9\n",
    "\n",
    "distA=np.random.choice(2, 25, p=[pr,1-pr])\n",
    "print distA\n",
    "distZ=np.random.choice(2, 25, p=[pr,1-pr])\n",
    "print distZ\n",
    "distX=np.random.choice(2, 25, p=[pr,1-pr])\n",
    "print distX\n",
    "\n",
    "dists= np.array([distA,distZ,distX])"
   ]
  },
  {
   "cell_type": "code",
   "execution_count": 9,
   "metadata": {
    "collapsed": false
   },
   "outputs": [
    {
     "data": {
      "image/png": "[encoded data removed]",
      "text/plain": [
       "<matplotlib.figure.Figure at 0x7f8592636c10>"
      ]
     },
     "metadata": {},
     "output_type": "display_data"
    }
   ],
   "source": [
    "display(patterns)\n",
    "#print dist_patterns[0]"
   ]
  },
  {
   "cell_type": "code",
   "execution_count": 10,
   "metadata": {
    "collapsed": false,
    "scrolled": false
   },
   "outputs": [
    {
     "data": {
      "image/png": "[encoded data removed]",
      "text/plain": [
       "<matplotlib.figure.Figure at 0x7f85924e45d0>"
      ]
     },
     "metadata": {},
     "output_type": "display_data"
    }
   ],
   "source": [
    "dist_patterns = patterns + 2*dists*(-np.abs(patterns)/patterns)\n",
    "\n",
    "display(dist_patterns)"
   ]
  },
  {
   "cell_type": "code",
   "execution_count": 11,
   "metadata": {
    "collapsed": false,
    "scrolled": false
   },
   "outputs": [
    {
     "name": "stdout",
     "output_type": "stream",
     "text": [
      "Step:  0\n",
      "rnd: 24\n",
      "1.33333333333\n",
      "rnd: 18\n",
      "-2.0\n",
      "rnd: 8\n",
      "11.3333333333\n"
     ]
    },
    {
     "data": {
      "image/png": "[encoded data removed]",
      "text/plain": [
       "<matplotlib.figure.Figure at 0x7f859262b5d0>"
      ]
     },
     "metadata": {},
     "output_type": "display_data"
    },
    {
     "name": "stdout",
     "output_type": "stream",
     "text": [
      "Step:  1\n",
      "rnd: 2\n",
      "7.33333333333\n",
      "rnd: 20\n",
      "6.66666666667\n",
      "rnd: 9\n",
      "-11.3333333333\n"
     ]
    },
    {
     "data": {
      "image/png": "[encoded data removed]",
      "text/plain": [
       "<matplotlib.figure.Figure at 0x7f85925e5d10>"
      ]
     },
     "metadata": {},
     "output_type": "display_data"
    },
    {
     "name": "stdout",
     "output_type": "stream",
     "text": [
      "Step:  2\n",
      "rnd: 23\n",
      "-4.66666666667\n",
      "rnd: 6\n",
      "-2.0\n",
      "rnd: 13\n",
      "-11.3333333333\n"
     ]
    },
    {
     "data": {
      "image/png": "[encoded data removed]",
      "text/plain": [
       "<matplotlib.figure.Figure at 0x7f859267e2d0>"
      ]
     },
     "metadata": {},
     "output_type": "display_data"
    },
    {
     "name": "stdout",
     "output_type": "stream",
     "text": [
      "Step:  3\n",
      "rnd: 1\n",
      "7.33333333333\n",
      "rnd: 18\n",
      "-2.0\n",
      "rnd: 9\n",
      "-11.3333333333\n"
     ]
    },
    {
     "data": {
      "image/png": "[encoded data removed]",
      "text/plain": [
       "<matplotlib.figure.Figure at 0x7f8592419950>"
      ]
     },
     "metadata": {},
     "output_type": "display_data"
    },
    {
     "name": "stdout",
     "output_type": "stream",
     "text": [
      "Step:  4\n",
      "rnd: 20\n",
      "1.33333333333\n",
      "rnd: 23\n",
      "4.0\n",
      "rnd: 0\n",
      "11.3333333333\n"
     ]
    },
    {
     "data": {
      "image/png": "[encoded data removed]",
      "text/plain": [
       "<matplotlib.figure.Figure at 0x7f85922713d0>"
      ]
     },
     "metadata": {},
     "output_type": "display_data"
    },
    {
     "name": "stdout",
     "output_type": "stream",
     "text": [
      "Step:  5\n",
      "rnd: 9\n",
      "10.6666666667\n",
      "rnd: 0\n",
      "8.66666666667\n",
      "rnd: 22\n",
      "-2.0\n"
     ]
    },
    {
     "data": {
      "image/png": "[encoded data removed]",
      "text/plain": [
       "<matplotlib.figure.Figure at 0x7f8592616150>"
      ]
     },
     "metadata": {},
     "output_type": "display_data"
    },
    {
     "name": "stdout",
     "output_type": "stream",
     "text": [
      "Step:  6\n",
      "rnd: 10\n",
      "10.6666666667\n",
      "rnd: 20\n",
      "6.66666666667\n",
      "rnd: 2\n",
      "-6.66666666667\n"
     ]
    },
    {
     "data": {
      "image/png": "[encoded data removed]",
      "text/plain": [
       "<matplotlib.figure.Figure at 0x7f8591f01690>"
      ]
     },
     "metadata": {},
     "output_type": "display_data"
    },
    {
     "name": "stdout",
     "output_type": "stream",
     "text": [
      "Step:  7\n",
      "rnd: 16\n",
      "-10.6666666667\n",
      "rnd: 13\n",
      "-8.66666666667\n",
      "rnd: 0\n",
      "11.3333333333\n"
     ]
    },
    {
     "data": {
      "image/png": "[encoded data removed]",
      "text/plain": [
       "<matplotlib.figure.Figure at 0x7f859258fb50>"
      ]
     },
     "metadata": {},
     "output_type": "display_data"
    },
    {
     "name": "stdout",
     "output_type": "stream",
     "text": [
      "Step:  8\n",
      "rnd: 7\n",
      "-1.33333333333\n",
      "rnd: 1\n",
      "4.0\n",
      "rnd: 17\n",
      "-6.66666666667\n"
     ]
    },
    {
     "data": {
      "image/png": "[encoded data removed]",
      "text/plain": [
       "<matplotlib.figure.Figure at 0x7f859204d6d0>"
      ]
     },
     "metadata": {},
     "output_type": "display_data"
    },
    {
     "name": "stdout",
     "output_type": "stream",
     "text": [
      "Step:  9\n",
      "rnd: 0\n",
      "-12.6666666667\n",
      "rnd: 12\n",
      "7.33333333333\n",
      "rnd: 14\n",
      "-11.3333333333\n"
     ]
    },
    {
     "data": {
      "image/png": "[encoded data removed]",
      "text/plain": [
       "<matplotlib.figure.Figure at 0x7f8592486610>"
      ]
     },
     "metadata": {},
     "output_type": "display_data"
    },
    {
     "name": "stdout",
     "output_type": "stream",
     "text": [
      "Step:  10\n",
      "rnd: 5\n",
      "12.6666666667\n",
      "rnd: 2\n",
      "4.0\n",
      "rnd: 8\n",
      "11.3333333333\n"
     ]
    },
    {
     "data": {
      "image/png": "[encoded data removed]",
      "text/plain": [
       "<matplotlib.figure.Figure at 0x7f85926b2c90>"
      ]
     },
     "metadata": {},
     "output_type": "display_data"
    },
    {
     "name": "stdout",
     "output_type": "stream",
     "text": [
      "Step:  11\n",
      "rnd: 15\n",
      "12.6666666667\n",
      "rnd: 24\n",
      "7.33333333333\n",
      "rnd: 17\n",
      "-6.66666666667\n"
     ]
    },
    {
     "data": {
      "image/png": "[encoded data removed]",
      "text/plain": [
       "<matplotlib.figure.Figure at 0x7f859220d350>"
      ]
     },
     "metadata": {},
     "output_type": "display_data"
    },
    {
     "name": "stdout",
     "output_type": "stream",
     "text": [
      "Step:  12\n",
      "rnd: 3\n",
      "8.0\n",
      "rnd: 6\n",
      "-4.0\n",
      "rnd: 18\n",
      "6.66666666667\n"
     ]
    },
    {
     "data": {
      "image/png": "[encoded data removed]",
      "text/plain": [
       "<matplotlib.figure.Figure at 0x7f85926a3590>"
      ]
     },
     "metadata": {},
     "output_type": "display_data"
    },
    {
     "name": "stdout",
     "output_type": "stream",
     "text": [
      "Step:  13\n",
      "rnd: 23\n",
      "-5.33333333333\n",
      "rnd: 5\n",
      "-8.0\n",
      "rnd: 15\n",
      "-11.3333333333\n"
     ]
    },
    {
     "data": {
      "image/png": "[encoded data removed]",
      "text/plain": [
       "<matplotlib.figure.Figure at 0x7f85925a0c50>"
      ]
     },
     "metadata": {},
     "output_type": "display_data"
    },
    {
     "name": "stdout",
     "output_type": "stream",
     "text": [
      "Step:  14\n",
      "rnd: 0\n",
      "-12.6666666667\n",
      "rnd: 4\n",
      "10.0\n",
      "rnd: 18\n",
      "6.66666666667\n"
     ]
    },
    {
     "data": {
      "image/png": "[encoded data removed]",
      "text/plain": [
       "<matplotlib.figure.Figure at 0x7f85921bced0>"
      ]
     },
     "metadata": {},
     "output_type": "display_data"
    },
    {
     "name": "stdout",
     "output_type": "stream",
     "text": [
      "Step:  15\n",
      "rnd: 0\n",
      "-12.6666666667\n",
      "rnd: 2\n",
      "3.33333333333\n",
      "rnd: 7\n",
      "-6.66666666667\n"
     ]
    },
    {
     "data": {
      "image/png": "[encoded data removed]",
      "text/plain": [
       "<matplotlib.figure.Figure at 0x7f8592513490>"
      ]
     },
     "metadata": {},
     "output_type": "display_data"
    },
    {
     "name": "stdout",
     "output_type": "stream",
     "text": [
      "Step:  16\n",
      "rnd: 18\n",
      "-8.0\n",
      "rnd: 5\n",
      "-10.0\n",
      "rnd: 3\n",
      "-6.66666666667\n"
     ]
    },
    {
     "data": {
      "image/png": "[encoded data removed]",
      "text/plain": [
       "<matplotlib.figure.Figure at 0x7f85921e2610>"
      ]
     },
     "metadata": {},
     "output_type": "display_data"
    },
    {
     "name": "stdout",
     "output_type": "stream",
     "text": [
      "Step:  17\n",
      "rnd: 10\n",
      "12.6666666667\n",
      "rnd: 0\n",
      "10.0\n",
      "rnd: 9\n",
      "-11.3333333333\n"
     ]
    },
    {
     "data": {
      "image/png": "[encoded data removed]",
      "text/plain": [
       "<matplotlib.figure.Figure at 0x7f8592207b10>"
      ]
     },
     "metadata": {},
     "output_type": "display_data"
    },
    {
     "name": "stdout",
     "output_type": "stream",
     "text": [
      "Step:  18\n",
      "rnd: 16\n",
      "-12.6666666667\n",
      "rnd: 18\n",
      "-3.33333333333\n",
      "rnd: 10\n",
      "-11.3333333333\n"
     ]
    },
    {
     "data": {
      "image/png": "[encoded data removed]",
      "text/plain": [
       "<matplotlib.figure.Figure at 0x7f85920cda90>"
      ]
     },
     "metadata": {},
     "output_type": "display_data"
    },
    {
     "name": "stdout",
     "output_type": "stream",
     "text": [
      "Step:  19\n",
      "rnd: 24\n",
      "0.666666666667\n",
      "rnd: 12\n",
      "8.0\n",
      "rnd: 8\n",
      "11.3333333333\n"
     ]
    },
    {
     "data": {
      "image/png": "[encoded data removed]",
      "text/plain": [
       "<matplotlib.figure.Figure at 0x7f85927484d0>"
      ]
     },
     "metadata": {},
     "output_type": "display_data"
    },
    {
     "name": "stdout",
     "output_type": "stream",
     "text": [
      "Step:  20\n",
      "rnd: 22\n",
      "-5.33333333333\n",
      "rnd: 23\n",
      "5.33333333333\n",
      "rnd: 4\n",
      "11.3333333333\n"
     ]
    },
    {
     "data": {
      "image/png": "[encoded data removed]",
      "text/plain": [
       "<matplotlib.figure.Figure at 0x7f8592573610>"
      ]
     },
     "metadata": {},
     "output_type": "display_data"
    },
    {
     "name": "stdout",
     "output_type": "stream",
     "text": [
      "Step:  21\n",
      "rnd: 19\n",
      "12.6666666667\n",
      "rnd: 18\n",
      "-3.33333333333\n",
      "rnd: 14\n",
      "-11.3333333333\n"
     ]
    },
    {
     "data": {
      "image/png": "[encoded data removed]",
      "text/plain": [
       "<matplotlib.figure.Figure at 0x7f8591d6bc90>"
      ]
     },
     "metadata": {},
     "output_type": "display_data"
    },
    {
     "name": "stdout",
     "output_type": "stream",
     "text": [
      "Step:  22\n",
      "rnd: 14\n",
      "12.6666666667\n",
      "rnd: 13\n",
      "-10.0\n",
      "rnd: 15\n",
      "-11.3333333333\n"
     ]
    },
    {
     "data": {
      "image/png": "[encoded data removed]",
      "text/plain": [
       "<matplotlib.figure.Figure at 0x7f85920d6710>"
      ]
     },
     "metadata": {},
     "output_type": "display_data"
    },
    {
     "name": "stdout",
     "output_type": "stream",
     "text": [
      "Step:  23\n",
      "rnd: 5\n",
      "12.6666666667\n",
      "rnd: 4\n",
      "10.0\n",
      "rnd: 19\n",
      "-13.3333333333\n"
     ]
    },
    {
     "data": {
      "image/png": "[encoded data removed]",
      "text/plain": [
       "<matplotlib.figure.Figure at 0x7f85923a2150>"
      ]
     },
     "metadata": {},
     "output_type": "display_data"
    },
    {
     "name": "stdout",
     "output_type": "stream",
     "text": [
      "Step:  24\n",
      "rnd: 6\n",
      "-8.0\n",
      "rnd: 0\n",
      "10.0\n",
      "rnd: 12\n",
      "7.33333333333\n"
     ]
    },
    {
     "data": {
      "image/png": "[encoded data removed]",
      "text/plain": [
       "<matplotlib.figure.Figure at 0x7f8592424fd0>"
      ]
     },
     "metadata": {},
     "output_type": "display_data"
    },
    {
     "name": "stdout",
     "output_type": "stream",
     "text": [
      "Step:  25\n",
      "rnd: 17\n",
      "-2.66666666667\n",
      "rnd: 2\n",
      "3.33333333333\n",
      "rnd: 7\n",
      "-7.33333333333\n"
     ]
    },
    {
     "data": {
      "image/png": "[encoded data removed]",
      "text/plain": [
       "<matplotlib.figure.Figure at 0x7f8591d6be90>"
      ]
     },
     "metadata": {},
     "output_type": "display_data"
    },
    {
     "name": "stdout",
     "output_type": "stream",
     "text": [
      "Step:  26\n",
      "rnd: 6\n",
      "-8.66666666667\n",
      "rnd: 14\n",
      "-10.0\n",
      "rnd: 15\n",
      "-13.3333333333\n"
     ]
    },
    {
     "data": {
      "image/png": "[encoded data removed]",
      "text/plain": [
       "<matplotlib.figure.Figure at 0x7f8591f94a90>"
      ]
     },
     "metadata": {},
     "output_type": "display_data"
    },
    {
     "name": "stdout",
     "output_type": "stream",
     "text": [
      "Step:  27\n",
      "rnd: 1\n",
      "8.66666666667\n",
      "rnd: 22\n",
      "5.33333333333\n",
      "rnd: 0\n",
      "13.3333333333\n"
     ]
    },
    {
     "data": {
      "image/png": "[encoded data removed]",
      "text/plain": [
       "<matplotlib.figure.Figure at 0x7f85926a2610>"
      ]
     },
     "metadata": {},
     "output_type": "display_data"
    },
    {
     "name": "stdout",
     "output_type": "stream",
     "text": [
      "Step:  28\n",
      "rnd: 16\n",
      "-12.0\n",
      "rnd: 22\n",
      "5.33333333333\n",
      "rnd: 23\n",
      "-1.33333333333\n"
     ]
    },
    {
     "data": {
      "image/png": "[encoded data removed]",
      "text/plain": [
       "<matplotlib.figure.Figure at 0x7f85926c5c50>"
      ]
     },
     "metadata": {},
     "output_type": "display_data"
    },
    {
     "name": "stdout",
     "output_type": "stream",
     "text": [
      "Step:  29\n",
      "rnd: 18\n",
      "-8.66666666667\n",
      "rnd: 22\n",
      "5.33333333333\n",
      "rnd: 8\n",
      "13.3333333333\n"
     ]
    },
    {
     "data": {
      "image/png": "[encoded data removed]",
      "text/plain": [
       "<matplotlib.figure.Figure at 0x7f8592763a50>"
      ]
     },
     "metadata": {},
     "output_type": "display_data"
    },
    {
     "name": "stdout",
     "output_type": "stream",
     "text": [
      "Step:  30\n",
      "rnd: 19\n",
      "12.0\n",
      "rnd: 22\n",
      "5.33333333333\n",
      "rnd: 14\n",
      "-13.3333333333\n"
     ]
    },
    {
     "data": {
      "image/png": "[encoded data removed]",
      "text/plain": [
       "<matplotlib.figure.Figure at 0x7f8591def610>"
      ]
     },
     "metadata": {},
     "output_type": "display_data"
    },
    {
     "name": "stdout",
     "output_type": "stream",
     "text": [
      "Step:  31\n",
      "rnd: 20\n",
      "2.66666666667\n",
      "rnd: 4\n",
      "10.0\n",
      "rnd: 23\n",
      "-1.33333333333\n"
     ]
    },
    {
     "data": {
      "image/png": "[encoded data removed]",
      "text/plain": [
       "<matplotlib.figure.Figure at 0x7f8591d42610>"
      ]
     },
     "metadata": {},
     "output_type": "display_data"
    },
    {
     "name": "stdout",
     "output_type": "stream",
     "text": [
      "Step:  32\n",
      "rnd: 13\n",
      "12.0\n",
      "rnd: 19\n",
      "-10.0\n",
      "rnd: 3\n",
      "-7.33333333333\n"
     ]
    },
    {
     "data": {
      "image/png": "[encoded data removed]",
      "text/plain": [
       "<matplotlib.figure.Figure at 0x7f8591d64c90>"
      ]
     },
     "metadata": {},
     "output_type": "display_data"
    },
    {
     "name": "stdout",
     "output_type": "stream",
     "text": [
      "Step:  33\n",
      "rnd: 12\n",
      "2.66666666667\n",
      "rnd: 8\n",
      "10.0\n",
      "rnd: 5\n",
      "-13.3333333333\n"
     ]
    },
    {
     "data": {
      "image/png": "[encoded data removed]",
      "text/plain": [
       "<matplotlib.figure.Figure at 0x7f85925e5590>"
      ]
     },
     "metadata": {},
     "output_type": "display_data"
    },
    {
     "name": "stdout",
     "output_type": "stream",
     "text": [
      "Step:  34\n",
      "rnd: 24\n",
      "2.66666666667\n",
      "rnd: 6\n",
      "-3.33333333333\n",
      "rnd: 24\n",
      "7.33333333333\n"
     ]
    },
    {
     "data": {
      "image/png": "[encoded data removed]",
      "text/plain": [
       "<matplotlib.figure.Figure at 0x7f8591e54410>"
      ]
     },
     "metadata": {},
     "output_type": "display_data"
    },
    {
     "name": "stdout",
     "output_type": "stream",
     "text": [
      "Step:  35\n",
      "rnd: 22\n",
      "-6.0\n",
      "rnd: 10\n",
      "-10.0\n",
      "rnd: 23\n",
      "-1.33333333333\n"
     ]
    },
    {
     "data": {
      "image/png": "[encoded data removed]",
      "text/plain": [
       "<matplotlib.figure.Figure at 0x7f859210e910>"
      ]
     },
     "metadata": {},
     "output_type": "display_data"
    },
    {
     "name": "stdout",
     "output_type": "stream",
     "text": [
      "Step:  36\n",
      "rnd: 12\n",
      "2.66666666667\n",
      "rnd: 22\n",
      "5.33333333333\n",
      "rnd: 12\n",
      "7.33333333333\n"
     ]
    },
    {
     "data": {
      "image/png": "[encoded data removed]",
      "text/plain": [
       "<matplotlib.figure.Figure at 0x7f8591e54ed0>"
      ]
     },
     "metadata": {},
     "output_type": "display_data"
    },
    {
     "name": "stdout",
     "output_type": "stream",
     "text": [
      "Step:  37\n",
      "rnd: 1\n",
      "8.66666666667\n",
      "rnd: 24\n",
      "8.0\n",
      "rnd: 11\n",
      "-13.3333333333\n"
     ]
    },
    {
     "data": {
      "image/png": "[encoded data removed]",
      "text/plain": [
       "<matplotlib.figure.Figure at 0x7f859209cf90>"
      ]
     },
     "metadata": {},
     "output_type": "display_data"
    },
    {
     "name": "stdout",
     "output_type": "stream",
     "text": [
      "Step:  38\n",
      "rnd: 5\n",
      "12.0\n",
      "rnd: 6\n",
      "-3.33333333333\n",
      "rnd: 13\n",
      "-13.3333333333\n"
     ]
    },
    {
     "data": {
      "image/png": "[encoded data removed]",
      "text/plain": [
       "<matplotlib.figure.Figure at 0x7f85920d7610>"
      ]
     },
     "metadata": {},
     "output_type": "display_data"
    },
    {
     "name": "stdout",
     "output_type": "stream",
     "text": [
      "Step:  39\n",
      "rnd: 4\n",
      "-12.0\n",
      "rnd: 3\n",
      "3.33333333333\n",
      "rnd: 4\n",
      "13.3333333333\n"
     ]
    },
    {
     "data": {
      "image/png": "[encoded data removed]",
      "text/plain": [
       "<matplotlib.figure.Figure at 0x7f85920cf550>"
      ]
     },
     "metadata": {},
     "output_type": "display_data"
    },
    {
     "name": "stdout",
     "output_type": "stream",
     "text": [
      "Step:  40\n",
      "rnd: 24\n",
      "2.66666666667\n",
      "rnd: 2\n",
      "3.33333333333\n",
      "rnd: 17\n",
      "-7.33333333333\n"
     ]
    },
    {
     "data": {
      "image/png": "[encoded data removed]",
      "text/plain": [
       "<matplotlib.figure.Figure at 0x7f85922d0490>"
      ]
     },
     "metadata": {},
     "output_type": "display_data"
    },
    {
     "name": "stdout",
     "output_type": "stream",
     "text": [
      "Step:  41\n",
      "rnd: 9\n",
      "12.0\n",
      "rnd: 17\n",
      "-8.0\n",
      "rnd: 4\n",
      "13.3333333333\n"
     ]
    },
    {
     "data": {
      "image/png": "[encoded data removed]",
      "text/plain": [
       "<matplotlib.figure.Figure at 0x7f859200b790>"
      ]
     },
     "metadata": {},
     "output_type": "display_data"
    },
    {
     "name": "stdout",
     "output_type": "stream",
     "text": [
      "Step:  42\n",
      "rnd: 0\n",
      "-12.0\n",
      "rnd: 2\n",
      "3.33333333333\n",
      "rnd: 3\n",
      "-7.33333333333\n"
     ]
    },
    {
     "data": {
      "image/png": "[encoded data removed]",
      "text/plain": [
       "<matplotlib.figure.Figure at 0x7f8592293610>"
      ]
     },
     "metadata": {},
     "output_type": "display_data"
    },
    {
     "name": "stdout",
     "output_type": "stream",
     "text": [
      "Step:  43\n",
      "rnd: 8\n",
      "-12.0\n",
      "rnd: 12\n",
      "8.0\n",
      "rnd: 4\n",
      "13.3333333333\n"
     ]
    },
    {
     "data": {
      "image/png": "[encoded data removed]",
      "text/plain": [
       "<matplotlib.figure.Figure at 0x7f859236fa50>"
      ]
     },
     "metadata": {},
     "output_type": "display_data"
    },
    {
     "name": "stdout",
     "output_type": "stream",
     "text": [
      "Step:  44\n",
      "rnd: 11\n",
      "12.0\n",
      "rnd: 2\n",
      "3.33333333333\n",
      "rnd: 9\n",
      "-13.3333333333\n"
     ]
    },
    {
     "data": {
      "image/png": "[encoded data removed]",
      "text/plain": [
       "<matplotlib.figure.Figure at 0x7f8592781910>"
      ]
     },
     "metadata": {},
     "output_type": "display_data"
    },
    {
     "name": "stdout",
     "output_type": "stream",
     "text": [
      "Step:  45\n",
      "rnd: 6\n",
      "-8.66666666667\n",
      "rnd: 18\n",
      "-3.33333333333\n",
      "rnd: 21\n",
      "-1.33333333333\n"
     ]
    },
    {
     "data": {
      "image/png": "[encoded data removed]",
      "text/plain": [
       "<matplotlib.figure.Figure at 0x7f859200c210>"
      ]
     },
     "metadata": {},
     "output_type": "display_data"
    },
    {
     "name": "stdout",
     "output_type": "stream",
     "text": [
      "Step:  46\n",
      "rnd: 22\n",
      "-6.0\n",
      "rnd: 21\n",
      "5.33333333333\n",
      "rnd: 14\n",
      "-13.3333333333\n"
     ]
    },
    {
     "data": {
      "image/png": "[encoded data removed]",
      "text/plain": [
       "<matplotlib.figure.Figure at 0x7f8592636a10>"
      ]
     },
     "metadata": {},
     "output_type": "display_data"
    },
    {
     "name": "stdout",
     "output_type": "stream",
     "text": [
      "Step:  47\n",
      "rnd: 21\n",
      "-6.0\n",
      "rnd: 1\n",
      "3.33333333333\n",
      "rnd: 9\n",
      "-13.3333333333\n"
     ]
    },
    {
     "data": {
      "image/png": "[encoded data removed]",
      "text/plain": [
       "<matplotlib.figure.Figure at 0x7f8591d50f50>"
      ]
     },
     "metadata": {},
     "output_type": "display_data"
    },
    {
     "name": "stdout",
     "output_type": "stream",
     "text": [
      "Step:  48\n",
      "rnd: 21\n",
      "-6.0\n",
      "rnd: 13\n",
      "-10.0\n",
      "rnd: 19\n",
      "-13.3333333333\n"
     ]
    },
    {
     "data": {
      "image/png": "[encoded data removed]",
      "text/plain": [
       "<matplotlib.figure.Figure at 0x7f8591dd4a90>"
      ]
     },
     "metadata": {},
     "output_type": "display_data"
    },
    {
     "name": "stdout",
     "output_type": "stream",
     "text": [
      "Step:  49\n",
      "rnd: 11\n",
      "12.0\n",
      "rnd: 2\n",
      "3.33333333333\n",
      "rnd: 23\n",
      "-1.33333333333\n"
     ]
    },
    {
     "data": {
      "image/png": "[encoded data removed]",
      "text/plain": [
       "<matplotlib.figure.Figure at 0x7f8592486110>"
      ]
     },
     "metadata": {},
     "output_type": "display_data"
    },
    {
     "name": "stdout",
     "output_type": "stream",
     "text": [
      "Step:  50\n",
      "rnd: 14\n",
      "12.0\n",
      "rnd: 11\n",
      "-10.0\n",
      "rnd: 12\n",
      "7.33333333333\n"
     ]
    },
    {
     "data": {
      "image/png": "[encoded data removed]",
      "text/plain": [
       "<matplotlib.figure.Figure at 0x7f8591dca650>"
      ]
     },
     "metadata": {},
     "output_type": "display_data"
    },
    {
     "name": "stdout",
     "output_type": "stream",
     "text": [
      "Step:  51\n",
      "rnd: 0\n",
      "-12.0\n",
      "rnd: 6\n",
      "-3.33333333333\n",
      "rnd: 9\n",
      "-13.3333333333\n"
     ]
    },
    {
     "data": {
      "image/png": "[encoded data removed]",
      "text/plain": [
       "<matplotlib.figure.Figure at 0x7f8595b49d50>"
      ]
     },
     "metadata": {},
     "output_type": "display_data"
    },
    {
     "name": "stdout",
     "output_type": "stream",
     "text": [
      "Step:  52\n",
      "rnd: 24\n",
      "2.66666666667\n",
      "rnd: 1\n",
      "3.33333333333\n",
      "rnd: 3\n",
      "-7.33333333333\n"
     ]
    },
    {
     "data": {
      "image/png": "[encoded data removed]",
      "text/plain": [
       "<matplotlib.figure.Figure at 0x7f8592636590>"
      ]
     },
     "metadata": {},
     "output_type": "display_data"
    },
    {
     "name": "stdout",
     "output_type": "stream",
     "text": [
      "Step:  53\n",
      "rnd: 10\n",
      "12.0\n",
      "rnd: 10\n",
      "-10.0\n",
      "rnd: 8\n",
      "13.3333333333\n"
     ]
    },
    {
     "data": {
      "image/png": "[encoded data removed]",
      "text/plain": [
       "<matplotlib.figure.Figure at 0x7f859258a9d0>"
      ]
     },
     "metadata": {},
     "output_type": "display_data"
    },
    {
     "name": "stdout",
     "output_type": "stream",
     "text": [
      "Step:  54\n",
      "rnd: 3\n",
      "8.66666666667\n",
      "rnd: 14\n",
      "-10.0\n",
      "rnd: 22\n",
      "-1.33333333333\n"
     ]
    },
    {
     "data": {
      "image/png": "[encoded data removed]",
      "text/plain": [
       "<matplotlib.figure.Figure at 0x7f8592135c90>"
      ]
     },
     "metadata": {},
     "output_type": "display_data"
    },
    {
     "name": "stdout",
     "output_type": "stream",
     "text": [
      "Step:  55\n",
      "rnd: 17\n",
      "-2.66666666667\n",
      "rnd: 7\n",
      "-8.0\n",
      "rnd: 4\n",
      "13.3333333333\n"
     ]
    },
    {
     "data": {
      "image/png": "[encoded data removed]",
      "text/plain": [
       "<matplotlib.figure.Figure at 0x7f8592271190>"
      ]
     },
     "metadata": {},
     "output_type": "display_data"
    },
    {
     "name": "stdout",
     "output_type": "stream",
     "text": [
      "Step:  56\n",
      "rnd: 1\n",
      "8.66666666667\n",
      "rnd: 15\n",
      "-12.0\n",
      "rnd: 16\n",
      "13.3333333333\n"
     ]
    },
    {
     "data": {
      "image/png": "[encoded data removed]",
      "text/plain": [
       "<matplotlib.figure.Figure at 0x7f8592494210>"
      ]
     },
     "metadata": {},
     "output_type": "display_data"
    },
    {
     "name": "stdout",
     "output_type": "stream",
     "text": [
      "Step:  57\n",
      "rnd: 5\n",
      "12.0\n",
      "rnd: 10\n",
      "-12.0\n",
      "rnd: 16\n",
      "13.3333333333\n"
     ]
    },
    {
     "data": {
      "image/png": "[encoded data removed]",
      "text/plain": [
       "<matplotlib.figure.Figure at 0x7f859256b310>"
      ]
     },
     "metadata": {},
     "output_type": "display_data"
    },
    {
     "name": "stdout",
     "output_type": "stream",
     "text": [
      "Step:  58\n",
      "rnd: 21\n",
      "-6.0\n",
      "rnd: 5\n",
      "-12.0\n",
      "rnd: 2\n",
      "-7.33333333333\n"
     ]
    },
    {
     "data": {
      "image/png": "[encoded data removed]",
      "text/plain": [
       "<matplotlib.figure.Figure at 0x7f8591fd8f50>"
      ]
     },
     "metadata": {},
     "output_type": "display_data"
    },
    {
     "name": "stdout",
     "output_type": "stream",
     "text": [
      "Step:  59\n",
      "rnd: 24\n",
      "2.66666666667\n",
      "rnd: 20\n",
      "8.66666666667\n",
      "rnd: 3\n",
      "-7.33333333333\n"
     ]
    },
    {
     "data": {
      "image/png": "[encoded data removed]",
      "text/plain": [
       "<matplotlib.figure.Figure at 0x7f85925aeb50>"
      ]
     },
     "metadata": {},
     "output_type": "display_data"
    },
    {
     "name": "stdout",
     "output_type": "stream",
     "text": [
      "Step:  60\n",
      "rnd: 3\n",
      "8.66666666667\n",
      "rnd: 19\n",
      "-12.0\n",
      "rnd: 14\n",
      "-13.3333333333\n"
     ]
    },
    {
     "data": {
      "image/png": "[encoded data removed]",
      "text/plain": [
       "<matplotlib.figure.Figure at 0x7f8591d60610>"
      ]
     },
     "metadata": {},
     "output_type": "display_data"
    },
    {
     "name": "stdout",
     "output_type": "stream",
     "text": [
      "Step:  61\n",
      "rnd: 18\n",
      "-8.66666666667\n",
      "rnd: 20\n",
      "8.66666666667\n",
      "rnd: 7\n",
      "-7.33333333333\n"
     ]
    },
    {
     "data": {
      "image/png": "[encoded data removed]",
      "text/plain": [
       "<matplotlib.figure.Figure at 0x7f85921591d0>"
      ]
     },
     "metadata": {},
     "output_type": "display_data"
    },
    {
     "name": "stdout",
     "output_type": "stream",
     "text": [
      "Step:  62\n",
      "rnd: 8\n",
      "-12.0\n",
      "rnd: 10\n",
      "-12.0\n",
      "rnd: 1\n",
      "-7.33333333333\n"
     ]
    },
    {
     "data": {
      "image/png": "[encoded data removed]",
      "text/plain": [
       "<matplotlib.figure.Figure at 0x7f8592734ed0>"
      ]
     },
     "metadata": {},
     "output_type": "display_data"
    },
    {
     "name": "stdout",
     "output_type": "stream",
     "text": [
      "Step:  63\n",
      "rnd: 17\n",
      "-2.66666666667\n",
      "rnd: 10\n",
      "-12.0\n",
      "rnd: 4\n",
      "13.3333333333\n"
     ]
    },
    {
     "data": {
      "image/png": "[encoded data removed]",
      "text/plain": [
       "<matplotlib.figure.Figure at 0x7f85920fa3d0>"
      ]
     },
     "metadata": {},
     "output_type": "display_data"
    },
    {
     "name": "stdout",
     "output_type": "stream",
     "text": [
      "Step:  64\n",
      "rnd: 21\n",
      "-6.0\n",
      "rnd: 17\n",
      "-8.66666666667\n",
      "rnd: 23\n",
      "-1.33333333333\n"
     ]
    },
    {
     "data": {
      "image/png": "[encoded data removed]",
      "text/plain": [
       "<matplotlib.figure.Figure at 0x7f8592074610>"
      ]
     },
     "metadata": {},
     "output_type": "display_data"
    },
    {
     "name": "stdout",
     "output_type": "stream",
     "text": [
      "Step:  65\n",
      "rnd: 4\n",
      "-12.0\n",
      "rnd: 0\n",
      "12.0\n",
      "rnd: 16\n",
      "13.3333333333\n"
     ]
    },
    {
     "data": {
      "image/png": "[encoded data removed]",
      "text/plain": [
       "<matplotlib.figure.Figure at 0x7f859244c810>"
      ]
     },
     "metadata": {},
     "output_type": "display_data"
    },
    {
     "name": "stdout",
     "output_type": "stream",
     "text": [
      "Step:  66\n",
      "rnd: 2\n",
      "8.66666666667\n",
      "rnd: 9\n",
      "-12.0\n",
      "rnd: 19\n",
      "-13.3333333333\n"
     ]
    },
    {
     "data": {
      "image/png": "[encoded data removed]",
      "text/plain": [
       "<matplotlib.figure.Figure at 0x7f8591ec8d10>"
      ]
     },
     "metadata": {},
     "output_type": "display_data"
    },
    {
     "name": "stdout",
     "output_type": "stream",
     "text": [
      "Step:  67\n",
      "rnd: 2\n",
      "8.66666666667\n",
      "rnd: 24\n",
      "8.66666666667\n",
      "rnd: 13\n",
      "-13.3333333333\n"
     ]
    },
    {
     "data": {
      "image/png": "[encoded data removed]",
      "text/plain": [
       "<matplotlib.figure.Figure at 0x7f8592326dd0>"
      ]
     },
     "metadata": {},
     "output_type": "display_data"
    },
    {
     "name": "stdout",
     "output_type": "stream",
     "text": [
      "Step:  68\n",
      "rnd: 16\n",
      "-12.0\n",
      "rnd: 14\n",
      "-12.0\n",
      "rnd: 3\n",
      "-7.33333333333\n"
     ]
    },
    {
     "data": {
      "image/png": "[encoded data removed]",
      "text/plain": [
       "<matplotlib.figure.Figure at 0x7f859204f290>"
      ]
     },
     "metadata": {},
     "output_type": "display_data"
    },
    {
     "name": "stdout",
     "output_type": "stream",
     "text": [
      "Step:  69\n",
      "rnd: 2\n",
      "8.66666666667\n",
      "rnd: 23\n",
      "6.0\n",
      "rnd: 6\n",
      "7.33333333333\n"
     ]
    },
    {
     "data": {
      "image/png": "[encoded data removed]",
      "text/plain": [
       "<matplotlib.figure.Figure at 0x7f859244ce90>"
      ]
     },
     "metadata": {},
     "output_type": "display_data"
    },
    {
     "name": "stdout",
     "output_type": "stream",
     "text": [
      "Step:  70\n",
      "rnd: 1\n",
      "8.66666666667\n",
      "rnd: 1\n",
      "2.66666666667\n",
      "rnd: 23\n",
      "-1.33333333333\n"
     ]
    },
    {
     "data": {
      "image/png": "[encoded data removed]",
      "text/plain": [
       "<matplotlib.figure.Figure at 0x7f8591f86250>"
      ]
     },
     "metadata": {},
     "output_type": "display_data"
    },
    {
     "name": "stdout",
     "output_type": "stream",
     "text": [
      "Step:  71\n",
      "rnd: 19\n",
      "12.0\n",
      "rnd: 12\n",
      "8.66666666667\n",
      "rnd: 23\n",
      "-1.33333333333\n"
     ]
    },
    {
     "data": {
      "image/png": "[encoded data removed]",
      "text/plain": [
       "<matplotlib.figure.Figure at 0x7f859277f850>"
      ]
     },
     "metadata": {},
     "output_type": "display_data"
    },
    {
     "name": "stdout",
     "output_type": "stream",
     "text": [
      "Step:  72\n",
      "rnd: 24\n",
      "2.66666666667\n",
      "rnd: 17\n",
      "-8.66666666667\n",
      "rnd: 16\n",
      "13.3333333333\n"
     ]
    },
    {
     "data": {
      "image/png": "[encoded data removed]",
      "text/plain": [
       "<matplotlib.figure.Figure at 0x7f859255be50>"
      ]
     },
     "metadata": {},
     "output_type": "display_data"
    },
    {
     "name": "stdout",
     "output_type": "stream",
     "text": [
      "Step:  73\n",
      "rnd: 7\n",
      "-2.66666666667\n",
      "rnd: 13\n",
      "-12.0\n",
      "rnd: 3\n",
      "-7.33333333333\n"
     ]
    },
    {
     "data": {
      "image/png": "[encoded data removed]",
      "text/plain": [
       "<matplotlib.figure.Figure at 0x7f859277c350>"
      ]
     },
     "metadata": {},
     "output_type": "display_data"
    },
    {
     "name": "stdout",
     "output_type": "stream",
     "text": [
      "Step:  74\n",
      "rnd: 8\n",
      "-12.0\n",
      "rnd: 1\n",
      "2.66666666667\n",
      "rnd: 18\n",
      "7.33333333333\n"
     ]
    },
    {
     "data": {
      "image/png": "[encoded data removed]",
      "text/plain": [
       "<matplotlib.figure.Figure at 0x7f8591d3d150>"
      ]
     },
     "metadata": {},
     "output_type": "display_data"
    },
    {
     "name": "stdout",
     "output_type": "stream",
     "text": [
      "Step:  75\n",
      "rnd: 19\n",
      "12.0\n",
      "rnd: 14\n",
      "-12.0\n",
      "rnd: 6\n",
      "7.33333333333\n"
     ]
    },
    {
     "data": {
      "image/png": "[encoded data removed]",
      "text/plain": [
       "<matplotlib.figure.Figure at 0x7f8592235610>"
      ]
     },
     "metadata": {},
     "output_type": "display_data"
    },
    {
     "name": "stdout",
     "output_type": "stream",
     "text": [
      "Step:  76\n",
      "rnd: 2\n",
      "8.66666666667\n",
      "rnd: 22\n",
      "6.0\n",
      "rnd: 9\n",
      "-13.3333333333\n"
     ]
    },
    {
     "data": {
      "image/png": "[encoded data removed]",
      "text/plain": [
       "<matplotlib.figure.Figure at 0x7f8591e3fc90>"
      ]
     },
     "metadata": {},
     "output_type": "display_data"
    },
    {
     "name": "stdout",
     "output_type": "stream",
     "text": [
      "Step:  77\n",
      "rnd: 7\n",
      "-2.66666666667\n",
      "rnd: 3\n",
      "2.66666666667\n",
      "rnd: 23\n",
      "-1.33333333333\n"
     ]
    },
    {
     "data": {
      "image/png": "[encoded data removed]",
      "text/plain": [
       "<matplotlib.figure.Figure at 0x7f85924551d0>"
      ]
     },
     "metadata": {},
     "output_type": "display_data"
    },
    {
     "name": "stdout",
     "output_type": "stream",
     "text": [
      "Step:  78\n",
      "rnd: 4\n",
      "-12.0\n",
      "rnd: 12\n",
      "8.66666666667\n",
      "rnd: 1\n",
      "-7.33333333333\n"
     ]
    },
    {
     "data": {
      "image/png": "[encoded data removed]",
      "text/plain": [
       "<matplotlib.figure.Figure at 0x7f8591fb67d0>"
      ]
     },
     "metadata": {},
     "output_type": "display_data"
    },
    {
     "name": "stdout",
     "output_type": "stream",
     "text": [
      "Step:  79\n",
      "rnd: 18\n",
      "-8.66666666667\n",
      "rnd: 14\n",
      "-12.0\n",
      "rnd: 4\n",
      "13.3333333333\n"
     ]
    },
    {
     "data": {
      "image/png": "[encoded data removed]",
      "text/plain": [
       "<matplotlib.figure.Figure at 0x7f8592227290>"
      ]
     },
     "metadata": {},
     "output_type": "display_data"
    }
   ],
   "source": [
    "rec_patterns=recall(w,dist_patterns)\n",
    "#for p in rec_patterns:\n",
    " #   display(p)"
   ]
  },
  {
   "cell_type": "code",
   "execution_count": null,
   "metadata": {
    "collapsed": true
   },
   "outputs": [],
   "source": []
  },
  {
   "cell_type": "code",
   "execution_count": null,
   "metadata": {
    "collapsed": true
   },
   "outputs": [],
   "source": []
  }
 ],
 "metadata": {
  "kernelspec": {
   "display_name": "Python 2",
   "language": "python",
   "name": "python2"
  },
  "language_info": {
   "codemirror_mode": {
    "name": "ipython",
    "version": 2
   },
   "file_extension": ".py",
   "mimetype": "text/x-python",
   "name": "python",
   "nbconvert_exporter": "python",
   "pygments_lexer": "ipython2",
   "version": "2.7.13"
  }
 },
 "nbformat": 4,
 "nbformat_minor": 2
}
